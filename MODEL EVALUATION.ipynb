{
  "cells": [
    {
      "cell_type": "code",
      "execution_count": 150,
      "id": "bf72522f",
      "metadata": {
        "id": "bf72522f"
      },
      "outputs": [],
      "source": [
        "import pandas as pd\n",
        "import matplotlib.pyplot as plt\n",
        "import seaborn as sns\n",
        "import numpy as np\n",
        "%matplotlib inline"
      ]
    },
    {
      "cell_type": "code",
      "execution_count": 151,
      "id": "ea40a593",
      "metadata": {
        "id": "ea40a593"
      },
      "outputs": [],
      "source": [
        "ipl2020=pd.read_csv('/content/IPL Ball-by-Ball 2008-2020.csv')\n",
        "ipl2021=pd.read_csv('/content/IPL Ball-by-Ball Dataset 2021.csv')"
      ]
    },
    {
      "cell_type": "code",
      "execution_count": null,
      "id": "53b5bac8",
      "metadata": {
        "id": "53b5bac8"
      },
      "outputs": [],
      "source": [
        "ipl2020.head()"
      ]
    },
    {
      "cell_type": "code",
      "execution_count": null,
      "id": "9d7da53a",
      "metadata": {
        "id": "9d7da53a"
      },
      "outputs": [],
      "source": [
        "ipl2021.head()"
      ]
    },
    {
      "cell_type": "code",
      "execution_count": 152,
      "id": "c47d6a42",
      "metadata": {
        "id": "c47d6a42"
      },
      "outputs": [],
      "source": [
        "matchdata = pd.concat(\n",
        "    map(pd.read_csv, ['/content/IPL Ball-by-Ball 2008-2020.csv', '/content/IPL Ball-by-Ball Dataset 2021.csv']))"
      ]
    },
    {
      "cell_type": "code",
      "execution_count": 153,
      "id": "ed2513be",
      "metadata": {
        "scrolled": true,
        "id": "ed2513be"
      },
      "outputs": [],
      "source": [
        "match_data = pd.read_csv(r'/content/IPL Matches 2008-2020.csv')"
      ]
    },
    {
      "cell_type": "code",
      "execution_count": 154,
      "id": "33be0bf2",
      "metadata": {
        "id": "33be0bf2"
      },
      "outputs": [],
      "source": [
        "match_data[\"season\"] = pd.to_datetime(match_data[\"date\"]).dt.year"
      ]
    },
    {
      "cell_type": "code",
      "execution_count": 155,
      "id": "9faefa7f",
      "metadata": {
        "id": "9faefa7f"
      },
      "outputs": [],
      "source": [
        "matchdata = matchdata.merge(match_data[[\"id\", \"season\"]], on=\"id\", how=\"inner\")"
      ]
    },
    {
      "cell_type": "code",
      "execution_count": null,
      "id": "6b60fea9",
      "metadata": {
        "id": "6b60fea9"
      },
      "outputs": [],
      "source": [
        "matchdata.head()"
      ]
    },
    {
      "cell_type": "code",
      "execution_count": null,
      "id": "d538622d",
      "metadata": {
        "id": "d538622d"
      },
      "outputs": [],
      "source": [
        "matchdata.info()"
      ]
    },
    {
      "cell_type": "markdown",
      "id": "94b9da14",
      "metadata": {
        "id": "94b9da14"
      },
      "source": [
        "# Aggregated Batsman Data with Match Id"
      ]
    },
    {
      "cell_type": "code",
      "execution_count": 156,
      "id": "29f85ba4",
      "metadata": {
        "id": "29f85ba4"
      },
      "outputs": [],
      "source": [
        "        batsmen_score = pd.DataFrame(matchdata.groupby(['id', 'batsman'])['batsman_runs'].sum()).\\\n",
        "            rename(columns={\"batsman_runs\": \"total_runs\"})\n",
        "        batsmen_scores_30 = pd.DataFrame(((matchdata.groupby(['id', 'batsman'])['batsman_runs'].sum())>=30).astype(int)).\\\n",
        "            rename(columns={\"batsman_runs\": \"total_runs_30\"})\n",
        "        batsmen_scores_50 = pd.DataFrame(((matchdata.groupby(['id', 'batsman'])['batsman_runs'].sum())>=50).astype(int)).\\\n",
        "            rename(columns={\"batsman_runs\": \"total_runs_50\"})\n",
        "        batsmen_scores_100 = pd.DataFrame(((matchdata.groupby(['id', 'batsman'])['batsman_runs'].sum())>=100).astype(int)).\\\n",
        "            rename(columns={\"batsman_runs\": \"total_runs_100\"})\n",
        "        batsmen_scores_0 = pd.DataFrame(((matchdata.groupby(['id', 'batsman'])['batsman_runs'].sum())==0).astype(int)).\\\n",
        "            rename(columns={\"batsman_runs\": \"total_runs_0\"})\n",
        "        batsmen_ball_faced = pd.DataFrame(matchdata.groupby(['id', 'batsman'])['over'].count()).\\\n",
        "            rename(columns={\"over\": \"total_balls_faced\"})\n",
        "        batsmen_ball_faced_legal = pd.DataFrame(matchdata[matchdata['ball'] <=6].groupby(['id', 'batsman'])['ball'].count()).\\\n",
        "            rename(columns={\"ball\": \"total_legal_balls_faced\"})\n",
        "        batsmen_scores6 = pd.DataFrame(matchdata[matchdata['batsman_runs'] == 6].groupby(['id', 'batsman'])['batsman_runs'].count()).\\\n",
        "            rename(columns={\"batsman_runs\": \"run_6\"})\n",
        "        batsmen_scores4 = pd.DataFrame(matchdata[matchdata['batsman_runs'] == 4].groupby(['id', 'batsman'])['batsman_runs'].count()).\\\n",
        "            rename(columns={\"batsman_runs\": \"run_4\"})\n",
        "        batsmen_position = pd.DataFrame(matchdata.groupby(['id', 'batsman'])['is_wicket'].min())\n",
        "       \n",
        "        \n",
        "        df_list = [batsmen_score, batsmen_ball_faced, batsmen_ball_faced_legal, batsmen_scores6, batsmen_scores4, batsmen_position,batsmen_scores_30,batsmen_scores_50,batsmen_scores_100,batsmen_scores_0]\n",
        "        batsmen_summary = pd.concat(df_list, join='outer', axis=1).fillna(np.nan).reset_index()\n",
        "        batsmen_summary = pd.merge(batsmen_summary, matchdata[['id', 'batsman', 'inning', 'batting_team', 'bowling_team']].\n",
        "                                   drop_duplicates(), on=['id', 'batsman'], how='left')\n",
        "        batsmen_summary.rename(columns={'inning': 'batsmen_innings', 'batsman': 'playername', 'batting_team': 'Playing Team',\n",
        "                                        'bowling_team': 'Opponent Team'}, inplace=True)\n",
        "       "
      ]
    },
    {
      "cell_type": "code",
      "execution_count": null,
      "id": "204a6233",
      "metadata": {
        "id": "204a6233"
      },
      "outputs": [],
      "source": [
        "batsmen_summary"
      ]
    },
    {
      "cell_type": "markdown",
      "id": "821f2b3d",
      "metadata": {
        "id": "821f2b3d"
      },
      "source": [
        "# Bowler Data Aggregated with Match Id"
      ]
    },
    {
      "cell_type": "code",
      "execution_count": 157,
      "id": "69194b9e",
      "metadata": {
        "id": "69194b9e"
      },
      "outputs": [],
      "source": [
        "        bowler_wickets = pd.DataFrame(matchdata[((matchdata['is_wicket'] == 1) & (~matchdata['dismissal_kind'].isin(['run out','retired hurt'])))].\n",
        "                                      groupby(['id', 'bowler'])['is_wicket'].count()).\\\n",
        "            rename(columns={\"is_wicket\": \"total_wickets\"})\n",
        "        bowler_overs_bow = pd.DataFrame(matchdata.groupby(['id', 'bowler'])['over'].count()).\\\n",
        "            rename(columns={\"over\": \"total_balls_bowled\"})\n",
        "        bowler_ball_faced_legal = pd.DataFrame(matchdata[matchdata['ball'] <=6].groupby(['id', 'bowler'])['ball'].count()).\\\n",
        "            rename(columns={\"ball\": \"total_legal_balls_bowled\"})\n",
        "        # calculating the number of maiden overs bowled in a match\n",
        "        bowler_runs_given = pd.DataFrame(matchdata.groupby(['id', 'bowler'])['batsman_runs'].sum()).\\\n",
        "            rename(columns={\"batsman_runs\": \"total_runs_given\"})\n",
        "        bowler_wickets_3 = pd.DataFrame((matchdata[((matchdata['is_wicket'] == 1) & (~matchdata['dismissal_kind'].isin(['run out','retired hurt'])))].\n",
        "                                      groupby(['id', 'bowler'])['is_wicket'].count())==3).astype(int).\\\n",
        "            rename(columns={\"is_wicket\": \"total_wickets_3\"})\n",
        "        bowler_wickets_4 = pd.DataFrame((matchdata[((matchdata['is_wicket'] == 1) & (~matchdata['dismissal_kind'].isin(['run out','retired hurt'])))].\n",
        "                                      groupby(['id', 'bowler'])['is_wicket'].count())==4).astype(int).\\\n",
        "            rename(columns={\"is_wicket\": \"total_wickets_4\"})\n",
        "        bowler_wickets_5 = pd.DataFrame((matchdata[((matchdata['is_wicket'] == 1) & (~matchdata['dismissal_kind'].isin(['run out','retired hurt'])))].\n",
        "                                      groupby(['id', 'bowler'])['is_wicket'].count())==5).astype(int).\\\n",
        "            rename(columns={\"is_wicket\": \"total_wickets_5\"})\n",
        "        bowler_maiden = pd.DataFrame(matchdata.groupby(['id', 'bowler', 'over'])['total_runs'].sum()).reset_index()\n",
        "        bowler_maiden['maiden_overs'] = np.where(bowler_maiden['total_runs'] == 0, 1, 0)\n",
        "        bowler_maiden = bowler_maiden.groupby(['id', 'bowler'])['maiden_overs'].sum()\n",
        "        \n",
        "        #legbyes to be considered\n",
        "        \n",
        "        df_list = [bowler_wickets, bowler_overs_bow, bowler_ball_faced_legal, bowler_runs_given,bowler_wickets_3,bowler_wickets_4,bowler_wickets_5,bowler_maiden]\n",
        "        bowler_summary = pd.concat(df_list, join='outer', axis=1).fillna(np.nan).reset_index()\n",
        "        # adding additional columns just in case we need for modeling\n",
        "        bowler_summary = pd.merge(bowler_summary, matchdata[['id', 'bowler', 'inning', 'batting_team', 'bowling_team']].drop_duplicates(), on=['id', 'bowler'], how='left')\n",
        "        bowler_summary.rename(columns={'inning': 'bowlers_innings', 'bowler': 'playername', 'batting_team': 'Playing team',\n",
        "                                       'bowling_team': 'Opponent Team'}, inplace=True)\n",
        "        bowler_summary['economy_rate'] = (bowler_summary['total_runs_given'] * 6) / bowler_summary['total_legal_balls_bowled']\n",
        "        bowler_summary['eco less than 5'] = (bowler_summary['economy_rate']<=5).astype(int)\n",
        "        bowler_summary['eco 5-5.99'] = ((bowler_summary['economy_rate']<6)&(bowler_summary['economy_rate']>=5)).astype(int)\n",
        "        bowler_summary['eco 6-7'] = ((bowler_summary['economy_rate']>=6)&(bowler_summary['economy_rate']<7)).astype(int)\n",
        "        bowler_summary['eco 7-10'] = ((bowler_summary['economy_rate']>=7)&(bowler_summary['economy_rate']<10)).astype(int)\n",
        "        bowler_summary['eco 11-12'] = ((bowler_summary['economy_rate']>=11)&(bowler_summary['economy_rate']<12)).astype(int)\n",
        "        bowler_summary['eco greater than 12'] = (bowler_summary['economy_rate']>12).astype(int)\n",
        "        \n",
        "        \n",
        "        "
      ]
    },
    {
      "cell_type": "code",
      "execution_count": null,
      "id": "4213159c",
      "metadata": {
        "scrolled": true,
        "id": "4213159c"
      },
      "outputs": [],
      "source": [
        "bowler_summary"
      ]
    },
    {
      "cell_type": "code",
      "execution_count": 158,
      "id": "fc7f3320",
      "metadata": {
        "id": "fc7f3320"
      },
      "outputs": [],
      "source": [
        "fielder_data = pd.DataFrame(matchdata[((matchdata['is_wicket'] == 1) & (matchdata['dismissal_kind'].isin(['caught','caught and bowled','run out','stumped'])))].\n",
        "                                      groupby(['id','fielder','dismissal_kind'])['is_wicket'].count()).\\\n",
        "            rename(columns={\"is_wicket\": \"Fielding_stats\"})"
      ]
    },
    {
      "cell_type": "markdown",
      "id": "a12276e2",
      "metadata": {
        "id": "a12276e2"
      },
      "source": [
        "# Batsman,Bowler Merged Statistics"
      ]
    },
    {
      "cell_type": "code",
      "execution_count": 159,
      "id": "92885720",
      "metadata": {
        "id": "92885720"
      },
      "outputs": [],
      "source": [
        "  ipl_merged_scorecard = pd.merge(batsmen_summary, bowler_summary, on=['id', 'playername'], how='outer')"
      ]
    },
    {
      "cell_type": "code",
      "execution_count": null,
      "id": "aba2a585",
      "metadata": {
        "id": "aba2a585"
      },
      "outputs": [],
      "source": [
        "#for col in list_of_cols:\n",
        "  #ipl_merged_scorecard.loc[ ipl_merged_scorecard[col].isnull() , col ] = 0\n",
        "  #ipl_merged_scorecard[col].fillna(0, inplace=True)\n",
        "#ipl_merged_scorecard.isnull().sum()"
      ]
    },
    {
      "cell_type": "code",
      "execution_count": null,
      "id": "4dd955c3",
      "metadata": {
        "id": "4dd955c3"
      },
      "outputs": [],
      "source": [
        "ipl_merged_scorecard"
      ]
    },
    {
      "cell_type": "markdown",
      "id": "12c9a090",
      "metadata": {
        "id": "12c9a090"
      },
      "source": [
        "# Batsman, Bowler, All Rounder Classification"
      ]
    },
    {
      "cell_type": "code",
      "execution_count": 160,
      "id": "7e83f903",
      "metadata": {
        "id": "7e83f903"
      },
      "outputs": [],
      "source": [
        "        MINAVGBALLSFACED = 8\n",
        "        MINAVGBOWLSBOWLED = 6\n",
        "        player_avg = ipl_merged_scorecard[['playername', 'total_balls_faced', 'total_balls_bowled']].fillna(0)\n",
        "        player_avg = pd.DataFrame(player_avg.groupby('playername')[['total_balls_faced', 'total_balls_bowled']].mean())\n",
        "        conditions = [((player_avg['total_balls_faced'] >= MINAVGBALLSFACED) & (player_avg['total_balls_bowled'] >= MINAVGBOWLSBOWLED)),\n",
        "                      (player_avg['total_balls_bowled'] >= MINAVGBOWLSBOWLED)]\n",
        "        choices = ['AllRounder', 'Bowler']\n",
        "        player_avg['playing_role'] = np.select(conditions, choices, default='Batsmen')\n",
        "        player_avg = player_avg.reset_index()"
      ]
    },
    {
      "cell_type": "code",
      "execution_count": 102,
      "id": "8368f209",
      "metadata": {
        "colab": {
          "base_uri": "https://localhost:8080/",
          "height": 424
        },
        "id": "8368f209",
        "outputId": "2873560e-1e48-42e5-e042-64b433a88d9e"
      },
      "outputs": [
        {
          "output_type": "execute_result",
          "data": {
            "text/plain": [
              "         playername  total_balls_faced  total_balls_bowled playing_role\n",
              "0    A Ashish Reddy           7.000000            9.642857       Bowler\n",
              "1        A Chandila           0.583333           19.500000       Bowler\n",
              "2          A Chopra          12.500000            0.000000      Batsmen\n",
              "3       A Choudhary           4.000000           21.600000       Bowler\n",
              "4       A Dananjaya           5.000000           25.000000       Bowler\n",
              "..              ...                ...                 ...          ...\n",
              "575     YV Takawale          18.300000            0.000000      Batsmen\n",
              "576   Yashpal Singh          16.750000            0.000000      Batsmen\n",
              "577     Younis Khan           7.000000            0.000000      Batsmen\n",
              "578    Yuvraj Singh          17.093023            6.837209   AllRounder\n",
              "579          Z Khan           1.424242           22.989899       Bowler\n",
              "\n",
              "[580 rows x 4 columns]"
            ],
            "text/html": [
              "\n",
              "  <div id=\"df-bcb7306e-ff95-4d22-879e-7b4477c5d32d\">\n",
              "    <div class=\"colab-df-container\">\n",
              "      <div>\n",
              "<style scoped>\n",
              "    .dataframe tbody tr th:only-of-type {\n",
              "        vertical-align: middle;\n",
              "    }\n",
              "\n",
              "    .dataframe tbody tr th {\n",
              "        vertical-align: top;\n",
              "    }\n",
              "\n",
              "    .dataframe thead th {\n",
              "        text-align: right;\n",
              "    }\n",
              "</style>\n",
              "<table border=\"1\" class=\"dataframe\">\n",
              "  <thead>\n",
              "    <tr style=\"text-align: right;\">\n",
              "      <th></th>\n",
              "      <th>playername</th>\n",
              "      <th>total_balls_faced</th>\n",
              "      <th>total_balls_bowled</th>\n",
              "      <th>playing_role</th>\n",
              "    </tr>\n",
              "  </thead>\n",
              "  <tbody>\n",
              "    <tr>\n",
              "      <th>0</th>\n",
              "      <td>A Ashish Reddy</td>\n",
              "      <td>7.000000</td>\n",
              "      <td>9.642857</td>\n",
              "      <td>Bowler</td>\n",
              "    </tr>\n",
              "    <tr>\n",
              "      <th>1</th>\n",
              "      <td>A Chandila</td>\n",
              "      <td>0.583333</td>\n",
              "      <td>19.500000</td>\n",
              "      <td>Bowler</td>\n",
              "    </tr>\n",
              "    <tr>\n",
              "      <th>2</th>\n",
              "      <td>A Chopra</td>\n",
              "      <td>12.500000</td>\n",
              "      <td>0.000000</td>\n",
              "      <td>Batsmen</td>\n",
              "    </tr>\n",
              "    <tr>\n",
              "      <th>3</th>\n",
              "      <td>A Choudhary</td>\n",
              "      <td>4.000000</td>\n",
              "      <td>21.600000</td>\n",
              "      <td>Bowler</td>\n",
              "    </tr>\n",
              "    <tr>\n",
              "      <th>4</th>\n",
              "      <td>A Dananjaya</td>\n",
              "      <td>5.000000</td>\n",
              "      <td>25.000000</td>\n",
              "      <td>Bowler</td>\n",
              "    </tr>\n",
              "    <tr>\n",
              "      <th>...</th>\n",
              "      <td>...</td>\n",
              "      <td>...</td>\n",
              "      <td>...</td>\n",
              "      <td>...</td>\n",
              "    </tr>\n",
              "    <tr>\n",
              "      <th>575</th>\n",
              "      <td>YV Takawale</td>\n",
              "      <td>18.300000</td>\n",
              "      <td>0.000000</td>\n",
              "      <td>Batsmen</td>\n",
              "    </tr>\n",
              "    <tr>\n",
              "      <th>576</th>\n",
              "      <td>Yashpal Singh</td>\n",
              "      <td>16.750000</td>\n",
              "      <td>0.000000</td>\n",
              "      <td>Batsmen</td>\n",
              "    </tr>\n",
              "    <tr>\n",
              "      <th>577</th>\n",
              "      <td>Younis Khan</td>\n",
              "      <td>7.000000</td>\n",
              "      <td>0.000000</td>\n",
              "      <td>Batsmen</td>\n",
              "    </tr>\n",
              "    <tr>\n",
              "      <th>578</th>\n",
              "      <td>Yuvraj Singh</td>\n",
              "      <td>17.093023</td>\n",
              "      <td>6.837209</td>\n",
              "      <td>AllRounder</td>\n",
              "    </tr>\n",
              "    <tr>\n",
              "      <th>579</th>\n",
              "      <td>Z Khan</td>\n",
              "      <td>1.424242</td>\n",
              "      <td>22.989899</td>\n",
              "      <td>Bowler</td>\n",
              "    </tr>\n",
              "  </tbody>\n",
              "</table>\n",
              "<p>580 rows × 4 columns</p>\n",
              "</div>\n",
              "      <button class=\"colab-df-convert\" onclick=\"convertToInteractive('df-bcb7306e-ff95-4d22-879e-7b4477c5d32d')\"\n",
              "              title=\"Convert this dataframe to an interactive table.\"\n",
              "              style=\"display:none;\">\n",
              "        \n",
              "  <svg xmlns=\"http://www.w3.org/2000/svg\" height=\"24px\"viewBox=\"0 0 24 24\"\n",
              "       width=\"24px\">\n",
              "    <path d=\"M0 0h24v24H0V0z\" fill=\"none\"/>\n",
              "    <path d=\"M18.56 5.44l.94 2.06.94-2.06 2.06-.94-2.06-.94-.94-2.06-.94 2.06-2.06.94zm-11 1L8.5 8.5l.94-2.06 2.06-.94-2.06-.94L8.5 2.5l-.94 2.06-2.06.94zm10 10l.94 2.06.94-2.06 2.06-.94-2.06-.94-.94-2.06-.94 2.06-2.06.94z\"/><path d=\"M17.41 7.96l-1.37-1.37c-.4-.4-.92-.59-1.43-.59-.52 0-1.04.2-1.43.59L10.3 9.45l-7.72 7.72c-.78.78-.78 2.05 0 2.83L4 21.41c.39.39.9.59 1.41.59.51 0 1.02-.2 1.41-.59l7.78-7.78 2.81-2.81c.8-.78.8-2.07 0-2.86zM5.41 20L4 18.59l7.72-7.72 1.47 1.35L5.41 20z\"/>\n",
              "  </svg>\n",
              "      </button>\n",
              "      \n",
              "  <style>\n",
              "    .colab-df-container {\n",
              "      display:flex;\n",
              "      flex-wrap:wrap;\n",
              "      gap: 12px;\n",
              "    }\n",
              "\n",
              "    .colab-df-convert {\n",
              "      background-color: #E8F0FE;\n",
              "      border: none;\n",
              "      border-radius: 50%;\n",
              "      cursor: pointer;\n",
              "      display: none;\n",
              "      fill: #1967D2;\n",
              "      height: 32px;\n",
              "      padding: 0 0 0 0;\n",
              "      width: 32px;\n",
              "    }\n",
              "\n",
              "    .colab-df-convert:hover {\n",
              "      background-color: #E2EBFA;\n",
              "      box-shadow: 0px 1px 2px rgba(60, 64, 67, 0.3), 0px 1px 3px 1px rgba(60, 64, 67, 0.15);\n",
              "      fill: #174EA6;\n",
              "    }\n",
              "\n",
              "    [theme=dark] .colab-df-convert {\n",
              "      background-color: #3B4455;\n",
              "      fill: #D2E3FC;\n",
              "    }\n",
              "\n",
              "    [theme=dark] .colab-df-convert:hover {\n",
              "      background-color: #434B5C;\n",
              "      box-shadow: 0px 1px 3px 1px rgba(0, 0, 0, 0.15);\n",
              "      filter: drop-shadow(0px 1px 2px rgba(0, 0, 0, 0.3));\n",
              "      fill: #FFFFFF;\n",
              "    }\n",
              "  </style>\n",
              "\n",
              "      <script>\n",
              "        const buttonEl =\n",
              "          document.querySelector('#df-bcb7306e-ff95-4d22-879e-7b4477c5d32d button.colab-df-convert');\n",
              "        buttonEl.style.display =\n",
              "          google.colab.kernel.accessAllowed ? 'block' : 'none';\n",
              "\n",
              "        async function convertToInteractive(key) {\n",
              "          const element = document.querySelector('#df-bcb7306e-ff95-4d22-879e-7b4477c5d32d');\n",
              "          const dataTable =\n",
              "            await google.colab.kernel.invokeFunction('convertToInteractive',\n",
              "                                                     [key], {});\n",
              "          if (!dataTable) return;\n",
              "\n",
              "          const docLinkHtml = 'Like what you see? Visit the ' +\n",
              "            '<a target=\"_blank\" href=https://colab.research.google.com/notebooks/data_table.ipynb>data table notebook</a>'\n",
              "            + ' to learn more about interactive tables.';\n",
              "          element.innerHTML = '';\n",
              "          dataTable['output_type'] = 'display_data';\n",
              "          await google.colab.output.renderOutput(dataTable, element);\n",
              "          const docLink = document.createElement('div');\n",
              "          docLink.innerHTML = docLinkHtml;\n",
              "          element.appendChild(docLink);\n",
              "        }\n",
              "      </script>\n",
              "    </div>\n",
              "  </div>\n",
              "  "
            ]
          },
          "metadata": {},
          "execution_count": 102
        }
      ],
      "source": [
        "player_avg"
      ]
    },
    {
      "cell_type": "code",
      "execution_count": 45,
      "id": "d8012899",
      "metadata": {
        "colab": {
          "base_uri": "https://localhost:8080/",
          "height": 696
        },
        "id": "d8012899",
        "outputId": "fc27c86f-6b7e-48a6-b339-a11c0c8b6b56"
      },
      "outputs": [
        {
          "output_type": "execute_result",
          "data": {
            "text/plain": [
              "            id     playername_x  total_runs  total_balls_faced  \\\n",
              "0       335982        AA Noffke         9.0               12.0   \n",
              "1       335982          B Akhil         0.0                2.0   \n",
              "2       335982      BB McCullum       158.0               77.0   \n",
              "3       335982         CL White         6.0               10.0   \n",
              "4       335982        DJ Hussey        12.0               12.0   \n",
              "...        ...              ...         ...                ...   \n",
              "17146  1237181         K Rabada         NaN                NaN   \n",
              "17147  1237181  NM Coulter-Nile         NaN                NaN   \n",
              "17148  1237181          P Dubey         NaN                NaN   \n",
              "17149  1237181         R Ashwin         NaN                NaN   \n",
              "17150  1237181         TA Boult         NaN                NaN   \n",
              "\n",
              "       total_legal_balls_faced  run_6  run_4  is_wicket  total_runs_30  \\\n",
              "0                         11.0    NaN    1.0        0.0            0.0   \n",
              "1                          2.0    NaN    NaN        0.0            0.0   \n",
              "2                         73.0   13.0   10.0        0.0            1.0   \n",
              "3                          8.0    NaN    NaN        0.0            0.0   \n",
              "4                         12.0    NaN    1.0        0.0            0.0   \n",
              "...                        ...    ...    ...        ...            ...   \n",
              "17146                      NaN    NaN    NaN        NaN            NaN   \n",
              "17147                      NaN    NaN    NaN        NaN            NaN   \n",
              "17148                      NaN    NaN    NaN        NaN            NaN   \n",
              "17149                      NaN    NaN    NaN        NaN            NaN   \n",
              "17150                      NaN    NaN    NaN        NaN            NaN   \n",
              "\n",
              "       total_runs_50  ...              Opponent Team_y  economy_rate  \\\n",
              "0                0.0  ...  Royal Challengers Bangalore      8.750000   \n",
              "1                0.0  ...                          NaN           NaN   \n",
              "2                1.0  ...                          NaN           NaN   \n",
              "3                0.0  ...  Royal Challengers Bangalore     22.000000   \n",
              "4                0.0  ...                          NaN           NaN   \n",
              "...              ...  ...                          ...           ...   \n",
              "17146            NaN  ...               Delhi Capitals     10.666667   \n",
              "17147            NaN  ...               Mumbai Indians      7.000000   \n",
              "17148            NaN  ...               Delhi Capitals      9.666667   \n",
              "17149            NaN  ...               Delhi Capitals      7.000000   \n",
              "17150            NaN  ...               Mumbai Indians      7.500000   \n",
              "\n",
              "       eco less than 5 eco 5-5.99 eco 6-7  eco 7-10  eco 11-12  \\\n",
              "0                  0.0        0.0     0.0       1.0        0.0   \n",
              "1                  NaN        NaN     NaN       NaN        NaN   \n",
              "2                  NaN        NaN     NaN       NaN        NaN   \n",
              "3                  0.0        0.0     0.0       0.0        0.0   \n",
              "4                  NaN        NaN     NaN       NaN        NaN   \n",
              "...                ...        ...     ...       ...        ...   \n",
              "17146              0.0        0.0     0.0       0.0        0.0   \n",
              "17147              0.0        0.0     0.0       1.0        0.0   \n",
              "17148              0.0        0.0     0.0       1.0        0.0   \n",
              "17149              0.0        0.0     0.0       1.0        0.0   \n",
              "17150              0.0        0.0     0.0       1.0        0.0   \n",
              "\n",
              "       eco greater than 12    playername_y  playing_role  \n",
              "0                      0.0  A Ashish Reddy        Bowler  \n",
              "1                      NaN      A Chandila        Bowler  \n",
              "2                      NaN        A Chopra       Batsmen  \n",
              "3                      1.0     A Choudhary        Bowler  \n",
              "4                      NaN     A Dananjaya        Bowler  \n",
              "...                    ...             ...           ...  \n",
              "17146                  0.0             NaN           NaN  \n",
              "17147                  0.0             NaN           NaN  \n",
              "17148                  0.0             NaN           NaN  \n",
              "17149                  0.0             NaN           NaN  \n",
              "17150                  0.0             NaN           NaN  \n",
              "\n",
              "[17151 rows x 35 columns]"
            ],
            "text/html": [
              "\n",
              "  <div id=\"df-d2ac6a62-cbfb-47d6-9235-1011f028d7c4\">\n",
              "    <div class=\"colab-df-container\">\n",
              "      <div>\n",
              "<style scoped>\n",
              "    .dataframe tbody tr th:only-of-type {\n",
              "        vertical-align: middle;\n",
              "    }\n",
              "\n",
              "    .dataframe tbody tr th {\n",
              "        vertical-align: top;\n",
              "    }\n",
              "\n",
              "    .dataframe thead th {\n",
              "        text-align: right;\n",
              "    }\n",
              "</style>\n",
              "<table border=\"1\" class=\"dataframe\">\n",
              "  <thead>\n",
              "    <tr style=\"text-align: right;\">\n",
              "      <th></th>\n",
              "      <th>id</th>\n",
              "      <th>playername_x</th>\n",
              "      <th>total_runs</th>\n",
              "      <th>total_balls_faced</th>\n",
              "      <th>total_legal_balls_faced</th>\n",
              "      <th>run_6</th>\n",
              "      <th>run_4</th>\n",
              "      <th>is_wicket</th>\n",
              "      <th>total_runs_30</th>\n",
              "      <th>total_runs_50</th>\n",
              "      <th>...</th>\n",
              "      <th>Opponent Team_y</th>\n",
              "      <th>economy_rate</th>\n",
              "      <th>eco less than 5</th>\n",
              "      <th>eco 5-5.99</th>\n",
              "      <th>eco 6-7</th>\n",
              "      <th>eco 7-10</th>\n",
              "      <th>eco 11-12</th>\n",
              "      <th>eco greater than 12</th>\n",
              "      <th>playername_y</th>\n",
              "      <th>playing_role</th>\n",
              "    </tr>\n",
              "  </thead>\n",
              "  <tbody>\n",
              "    <tr>\n",
              "      <th>0</th>\n",
              "      <td>335982</td>\n",
              "      <td>AA Noffke</td>\n",
              "      <td>9.0</td>\n",
              "      <td>12.0</td>\n",
              "      <td>11.0</td>\n",
              "      <td>NaN</td>\n",
              "      <td>1.0</td>\n",
              "      <td>0.0</td>\n",
              "      <td>0.0</td>\n",
              "      <td>0.0</td>\n",
              "      <td>...</td>\n",
              "      <td>Royal Challengers Bangalore</td>\n",
              "      <td>8.750000</td>\n",
              "      <td>0.0</td>\n",
              "      <td>0.0</td>\n",
              "      <td>0.0</td>\n",
              "      <td>1.0</td>\n",
              "      <td>0.0</td>\n",
              "      <td>0.0</td>\n",
              "      <td>A Ashish Reddy</td>\n",
              "      <td>Bowler</td>\n",
              "    </tr>\n",
              "    <tr>\n",
              "      <th>1</th>\n",
              "      <td>335982</td>\n",
              "      <td>B Akhil</td>\n",
              "      <td>0.0</td>\n",
              "      <td>2.0</td>\n",
              "      <td>2.0</td>\n",
              "      <td>NaN</td>\n",
              "      <td>NaN</td>\n",
              "      <td>0.0</td>\n",
              "      <td>0.0</td>\n",
              "      <td>0.0</td>\n",
              "      <td>...</td>\n",
              "      <td>NaN</td>\n",
              "      <td>NaN</td>\n",
              "      <td>NaN</td>\n",
              "      <td>NaN</td>\n",
              "      <td>NaN</td>\n",
              "      <td>NaN</td>\n",
              "      <td>NaN</td>\n",
              "      <td>NaN</td>\n",
              "      <td>A Chandila</td>\n",
              "      <td>Bowler</td>\n",
              "    </tr>\n",
              "    <tr>\n",
              "      <th>2</th>\n",
              "      <td>335982</td>\n",
              "      <td>BB McCullum</td>\n",
              "      <td>158.0</td>\n",
              "      <td>77.0</td>\n",
              "      <td>73.0</td>\n",
              "      <td>13.0</td>\n",
              "      <td>10.0</td>\n",
              "      <td>0.0</td>\n",
              "      <td>1.0</td>\n",
              "      <td>1.0</td>\n",
              "      <td>...</td>\n",
              "      <td>NaN</td>\n",
              "      <td>NaN</td>\n",
              "      <td>NaN</td>\n",
              "      <td>NaN</td>\n",
              "      <td>NaN</td>\n",
              "      <td>NaN</td>\n",
              "      <td>NaN</td>\n",
              "      <td>NaN</td>\n",
              "      <td>A Chopra</td>\n",
              "      <td>Batsmen</td>\n",
              "    </tr>\n",
              "    <tr>\n",
              "      <th>3</th>\n",
              "      <td>335982</td>\n",
              "      <td>CL White</td>\n",
              "      <td>6.0</td>\n",
              "      <td>10.0</td>\n",
              "      <td>8.0</td>\n",
              "      <td>NaN</td>\n",
              "      <td>NaN</td>\n",
              "      <td>0.0</td>\n",
              "      <td>0.0</td>\n",
              "      <td>0.0</td>\n",
              "      <td>...</td>\n",
              "      <td>Royal Challengers Bangalore</td>\n",
              "      <td>22.000000</td>\n",
              "      <td>0.0</td>\n",
              "      <td>0.0</td>\n",
              "      <td>0.0</td>\n",
              "      <td>0.0</td>\n",
              "      <td>0.0</td>\n",
              "      <td>1.0</td>\n",
              "      <td>A Choudhary</td>\n",
              "      <td>Bowler</td>\n",
              "    </tr>\n",
              "    <tr>\n",
              "      <th>4</th>\n",
              "      <td>335982</td>\n",
              "      <td>DJ Hussey</td>\n",
              "      <td>12.0</td>\n",
              "      <td>12.0</td>\n",
              "      <td>12.0</td>\n",
              "      <td>NaN</td>\n",
              "      <td>1.0</td>\n",
              "      <td>0.0</td>\n",
              "      <td>0.0</td>\n",
              "      <td>0.0</td>\n",
              "      <td>...</td>\n",
              "      <td>NaN</td>\n",
              "      <td>NaN</td>\n",
              "      <td>NaN</td>\n",
              "      <td>NaN</td>\n",
              "      <td>NaN</td>\n",
              "      <td>NaN</td>\n",
              "      <td>NaN</td>\n",
              "      <td>NaN</td>\n",
              "      <td>A Dananjaya</td>\n",
              "      <td>Bowler</td>\n",
              "    </tr>\n",
              "    <tr>\n",
              "      <th>...</th>\n",
              "      <td>...</td>\n",
              "      <td>...</td>\n",
              "      <td>...</td>\n",
              "      <td>...</td>\n",
              "      <td>...</td>\n",
              "      <td>...</td>\n",
              "      <td>...</td>\n",
              "      <td>...</td>\n",
              "      <td>...</td>\n",
              "      <td>...</td>\n",
              "      <td>...</td>\n",
              "      <td>...</td>\n",
              "      <td>...</td>\n",
              "      <td>...</td>\n",
              "      <td>...</td>\n",
              "      <td>...</td>\n",
              "      <td>...</td>\n",
              "      <td>...</td>\n",
              "      <td>...</td>\n",
              "      <td>...</td>\n",
              "      <td>...</td>\n",
              "    </tr>\n",
              "    <tr>\n",
              "      <th>17146</th>\n",
              "      <td>1237181</td>\n",
              "      <td>K Rabada</td>\n",
              "      <td>NaN</td>\n",
              "      <td>NaN</td>\n",
              "      <td>NaN</td>\n",
              "      <td>NaN</td>\n",
              "      <td>NaN</td>\n",
              "      <td>NaN</td>\n",
              "      <td>NaN</td>\n",
              "      <td>NaN</td>\n",
              "      <td>...</td>\n",
              "      <td>Delhi Capitals</td>\n",
              "      <td>10.666667</td>\n",
              "      <td>0.0</td>\n",
              "      <td>0.0</td>\n",
              "      <td>0.0</td>\n",
              "      <td>0.0</td>\n",
              "      <td>0.0</td>\n",
              "      <td>0.0</td>\n",
              "      <td>NaN</td>\n",
              "      <td>NaN</td>\n",
              "    </tr>\n",
              "    <tr>\n",
              "      <th>17147</th>\n",
              "      <td>1237181</td>\n",
              "      <td>NM Coulter-Nile</td>\n",
              "      <td>NaN</td>\n",
              "      <td>NaN</td>\n",
              "      <td>NaN</td>\n",
              "      <td>NaN</td>\n",
              "      <td>NaN</td>\n",
              "      <td>NaN</td>\n",
              "      <td>NaN</td>\n",
              "      <td>NaN</td>\n",
              "      <td>...</td>\n",
              "      <td>Mumbai Indians</td>\n",
              "      <td>7.000000</td>\n",
              "      <td>0.0</td>\n",
              "      <td>0.0</td>\n",
              "      <td>0.0</td>\n",
              "      <td>1.0</td>\n",
              "      <td>0.0</td>\n",
              "      <td>0.0</td>\n",
              "      <td>NaN</td>\n",
              "      <td>NaN</td>\n",
              "    </tr>\n",
              "    <tr>\n",
              "      <th>17148</th>\n",
              "      <td>1237181</td>\n",
              "      <td>P Dubey</td>\n",
              "      <td>NaN</td>\n",
              "      <td>NaN</td>\n",
              "      <td>NaN</td>\n",
              "      <td>NaN</td>\n",
              "      <td>NaN</td>\n",
              "      <td>NaN</td>\n",
              "      <td>NaN</td>\n",
              "      <td>NaN</td>\n",
              "      <td>...</td>\n",
              "      <td>Delhi Capitals</td>\n",
              "      <td>9.666667</td>\n",
              "      <td>0.0</td>\n",
              "      <td>0.0</td>\n",
              "      <td>0.0</td>\n",
              "      <td>1.0</td>\n",
              "      <td>0.0</td>\n",
              "      <td>0.0</td>\n",
              "      <td>NaN</td>\n",
              "      <td>NaN</td>\n",
              "    </tr>\n",
              "    <tr>\n",
              "      <th>17149</th>\n",
              "      <td>1237181</td>\n",
              "      <td>R Ashwin</td>\n",
              "      <td>NaN</td>\n",
              "      <td>NaN</td>\n",
              "      <td>NaN</td>\n",
              "      <td>NaN</td>\n",
              "      <td>NaN</td>\n",
              "      <td>NaN</td>\n",
              "      <td>NaN</td>\n",
              "      <td>NaN</td>\n",
              "      <td>...</td>\n",
              "      <td>Delhi Capitals</td>\n",
              "      <td>7.000000</td>\n",
              "      <td>0.0</td>\n",
              "      <td>0.0</td>\n",
              "      <td>0.0</td>\n",
              "      <td>1.0</td>\n",
              "      <td>0.0</td>\n",
              "      <td>0.0</td>\n",
              "      <td>NaN</td>\n",
              "      <td>NaN</td>\n",
              "    </tr>\n",
              "    <tr>\n",
              "      <th>17150</th>\n",
              "      <td>1237181</td>\n",
              "      <td>TA Boult</td>\n",
              "      <td>NaN</td>\n",
              "      <td>NaN</td>\n",
              "      <td>NaN</td>\n",
              "      <td>NaN</td>\n",
              "      <td>NaN</td>\n",
              "      <td>NaN</td>\n",
              "      <td>NaN</td>\n",
              "      <td>NaN</td>\n",
              "      <td>...</td>\n",
              "      <td>Mumbai Indians</td>\n",
              "      <td>7.500000</td>\n",
              "      <td>0.0</td>\n",
              "      <td>0.0</td>\n",
              "      <td>0.0</td>\n",
              "      <td>1.0</td>\n",
              "      <td>0.0</td>\n",
              "      <td>0.0</td>\n",
              "      <td>NaN</td>\n",
              "      <td>NaN</td>\n",
              "    </tr>\n",
              "  </tbody>\n",
              "</table>\n",
              "<p>17151 rows × 35 columns</p>\n",
              "</div>\n",
              "      <button class=\"colab-df-convert\" onclick=\"convertToInteractive('df-d2ac6a62-cbfb-47d6-9235-1011f028d7c4')\"\n",
              "              title=\"Convert this dataframe to an interactive table.\"\n",
              "              style=\"display:none;\">\n",
              "        \n",
              "  <svg xmlns=\"http://www.w3.org/2000/svg\" height=\"24px\"viewBox=\"0 0 24 24\"\n",
              "       width=\"24px\">\n",
              "    <path d=\"M0 0h24v24H0V0z\" fill=\"none\"/>\n",
              "    <path d=\"M18.56 5.44l.94 2.06.94-2.06 2.06-.94-2.06-.94-.94-2.06-.94 2.06-2.06.94zm-11 1L8.5 8.5l.94-2.06 2.06-.94-2.06-.94L8.5 2.5l-.94 2.06-2.06.94zm10 10l.94 2.06.94-2.06 2.06-.94-2.06-.94-.94-2.06-.94 2.06-2.06.94z\"/><path d=\"M17.41 7.96l-1.37-1.37c-.4-.4-.92-.59-1.43-.59-.52 0-1.04.2-1.43.59L10.3 9.45l-7.72 7.72c-.78.78-.78 2.05 0 2.83L4 21.41c.39.39.9.59 1.41.59.51 0 1.02-.2 1.41-.59l7.78-7.78 2.81-2.81c.8-.78.8-2.07 0-2.86zM5.41 20L4 18.59l7.72-7.72 1.47 1.35L5.41 20z\"/>\n",
              "  </svg>\n",
              "      </button>\n",
              "      \n",
              "  <style>\n",
              "    .colab-df-container {\n",
              "      display:flex;\n",
              "      flex-wrap:wrap;\n",
              "      gap: 12px;\n",
              "    }\n",
              "\n",
              "    .colab-df-convert {\n",
              "      background-color: #E8F0FE;\n",
              "      border: none;\n",
              "      border-radius: 50%;\n",
              "      cursor: pointer;\n",
              "      display: none;\n",
              "      fill: #1967D2;\n",
              "      height: 32px;\n",
              "      padding: 0 0 0 0;\n",
              "      width: 32px;\n",
              "    }\n",
              "\n",
              "    .colab-df-convert:hover {\n",
              "      background-color: #E2EBFA;\n",
              "      box-shadow: 0px 1px 2px rgba(60, 64, 67, 0.3), 0px 1px 3px 1px rgba(60, 64, 67, 0.15);\n",
              "      fill: #174EA6;\n",
              "    }\n",
              "\n",
              "    [theme=dark] .colab-df-convert {\n",
              "      background-color: #3B4455;\n",
              "      fill: #D2E3FC;\n",
              "    }\n",
              "\n",
              "    [theme=dark] .colab-df-convert:hover {\n",
              "      background-color: #434B5C;\n",
              "      box-shadow: 0px 1px 3px 1px rgba(0, 0, 0, 0.15);\n",
              "      filter: drop-shadow(0px 1px 2px rgba(0, 0, 0, 0.3));\n",
              "      fill: #FFFFFF;\n",
              "    }\n",
              "  </style>\n",
              "\n",
              "      <script>\n",
              "        const buttonEl =\n",
              "          document.querySelector('#df-d2ac6a62-cbfb-47d6-9235-1011f028d7c4 button.colab-df-convert');\n",
              "        buttonEl.style.display =\n",
              "          google.colab.kernel.accessAllowed ? 'block' : 'none';\n",
              "\n",
              "        async function convertToInteractive(key) {\n",
              "          const element = document.querySelector('#df-d2ac6a62-cbfb-47d6-9235-1011f028d7c4');\n",
              "          const dataTable =\n",
              "            await google.colab.kernel.invokeFunction('convertToInteractive',\n",
              "                                                     [key], {});\n",
              "          if (!dataTable) return;\n",
              "\n",
              "          const docLinkHtml = 'Like what you see? Visit the ' +\n",
              "            '<a target=\"_blank\" href=https://colab.research.google.com/notebooks/data_table.ipynb>data table notebook</a>'\n",
              "            + ' to learn more about interactive tables.';\n",
              "          element.innerHTML = '';\n",
              "          dataTable['output_type'] = 'display_data';\n",
              "          await google.colab.output.renderOutput(dataTable, element);\n",
              "          const docLink = document.createElement('div');\n",
              "          docLink.innerHTML = docLinkHtml;\n",
              "          element.appendChild(docLink);\n",
              "        }\n",
              "      </script>\n",
              "    </div>\n",
              "  </div>\n",
              "  "
            ]
          },
          "metadata": {},
          "execution_count": 45
        }
      ],
      "source": [
        "#this is showing NAN values. if we use inner join then it is coming okay but we need to sort them id basis or something\n",
        "#ipl_merged_scorecard.merge(player_avg[[\"playername\",\"playing_role\"]], how=\"outer\",left_index=True,right_index=True)"
      ]
    },
    {
      "cell_type": "code",
      "execution_count": null,
      "id": "3a30ef7d",
      "metadata": {
        "scrolled": true,
        "id": "3a30ef7d"
      },
      "outputs": [],
      "source": [
        "ipl_merged_scorecard"
      ]
    },
    {
      "cell_type": "code",
      "execution_count": 17,
      "id": "0838a2b5",
      "metadata": {
        "colab": {
          "base_uri": "https://localhost:8080/",
          "height": 381
        },
        "id": "0838a2b5",
        "outputId": "cd031756-5de2-4a85-c6d7-1c3bd38f3fc8"
      },
      "outputs": [
        {
          "output_type": "error",
          "ename": "ValueError",
          "evalue": "ignored",
          "traceback": [
            "\u001b[0;31m---------------------------------------------------------------------------\u001b[0m",
            "\u001b[0;31mValueError\u001b[0m                                Traceback (most recent call last)",
            "\u001b[0;32m<ipython-input-17-14674c2eca34>\u001b[0m in \u001b[0;36m<module>\u001b[0;34m()\u001b[0m\n\u001b[1;32m      2\u001b[0m \u001b[0mipl_merged_scorecard\u001b[0m\u001b[0;34m.\u001b[0m\u001b[0mdrop_duplicates\u001b[0m\u001b[0;34m(\u001b[0m\u001b[0minplace\u001b[0m\u001b[0;34m=\u001b[0m\u001b[0;32mTrue\u001b[0m\u001b[0;34m)\u001b[0m\u001b[0;34m\u001b[0m\u001b[0;34m\u001b[0m\u001b[0m\n\u001b[1;32m      3\u001b[0m \u001b[0mplayer_avg\u001b[0m \u001b[0;34m=\u001b[0m \u001b[0mplayer_avg\u001b[0m\u001b[0;34m.\u001b[0m\u001b[0mset_index\u001b[0m\u001b[0;34m(\u001b[0m\u001b[0;34m\"playername\"\u001b[0m\u001b[0;34m)\u001b[0m\u001b[0;34m\u001b[0m\u001b[0;34m\u001b[0m\u001b[0m\n\u001b[0;32m----> 4\u001b[0;31m \u001b[0mipl_merged_scorecard\u001b[0m  \u001b[0;34m=\u001b[0m \u001b[0mipl_merged_scorecard\u001b[0m\u001b[0;34m.\u001b[0m\u001b[0mjoin\u001b[0m\u001b[0;34m(\u001b[0m\u001b[0mplayer_avg\u001b[0m\u001b[0;34m,\u001b[0m\u001b[0mhow\u001b[0m\u001b[0;34m=\u001b[0m\u001b[0;34m'outer'\u001b[0m\u001b[0;34m)\u001b[0m\u001b[0;34m\u001b[0m\u001b[0;34m\u001b[0m\u001b[0m\n\u001b[0m",
            "\u001b[0;32m/usr/local/lib/python3.7/dist-packages/pandas/core/frame.py\u001b[0m in \u001b[0;36mjoin\u001b[0;34m(self, other, on, how, lsuffix, rsuffix, sort)\u001b[0m\n\u001b[1;32m   9098\u001b[0m         \"\"\"\n\u001b[1;32m   9099\u001b[0m         return self._join_compat(\n\u001b[0;32m-> 9100\u001b[0;31m             \u001b[0mother\u001b[0m\u001b[0;34m,\u001b[0m \u001b[0mon\u001b[0m\u001b[0;34m=\u001b[0m\u001b[0mon\u001b[0m\u001b[0;34m,\u001b[0m \u001b[0mhow\u001b[0m\u001b[0;34m=\u001b[0m\u001b[0mhow\u001b[0m\u001b[0;34m,\u001b[0m \u001b[0mlsuffix\u001b[0m\u001b[0;34m=\u001b[0m\u001b[0mlsuffix\u001b[0m\u001b[0;34m,\u001b[0m \u001b[0mrsuffix\u001b[0m\u001b[0;34m=\u001b[0m\u001b[0mrsuffix\u001b[0m\u001b[0;34m,\u001b[0m \u001b[0msort\u001b[0m\u001b[0;34m=\u001b[0m\u001b[0msort\u001b[0m\u001b[0;34m\u001b[0m\u001b[0;34m\u001b[0m\u001b[0m\n\u001b[0m\u001b[1;32m   9101\u001b[0m         )\n\u001b[1;32m   9102\u001b[0m \u001b[0;34m\u001b[0m\u001b[0m\n",
            "\u001b[0;32m/usr/local/lib/python3.7/dist-packages/pandas/core/frame.py\u001b[0m in \u001b[0;36m_join_compat\u001b[0;34m(self, other, on, how, lsuffix, rsuffix, sort)\u001b[0m\n\u001b[1;32m   9136\u001b[0m                 \u001b[0mright_index\u001b[0m\u001b[0;34m=\u001b[0m\u001b[0;32mTrue\u001b[0m\u001b[0;34m,\u001b[0m\u001b[0;34m\u001b[0m\u001b[0;34m\u001b[0m\u001b[0m\n\u001b[1;32m   9137\u001b[0m                 \u001b[0msuffixes\u001b[0m\u001b[0;34m=\u001b[0m\u001b[0;34m(\u001b[0m\u001b[0mlsuffix\u001b[0m\u001b[0;34m,\u001b[0m \u001b[0mrsuffix\u001b[0m\u001b[0;34m)\u001b[0m\u001b[0;34m,\u001b[0m\u001b[0;34m\u001b[0m\u001b[0;34m\u001b[0m\u001b[0m\n\u001b[0;32m-> 9138\u001b[0;31m                 \u001b[0msort\u001b[0m\u001b[0;34m=\u001b[0m\u001b[0msort\u001b[0m\u001b[0;34m,\u001b[0m\u001b[0;34m\u001b[0m\u001b[0;34m\u001b[0m\u001b[0m\n\u001b[0m\u001b[1;32m   9139\u001b[0m             )\n\u001b[1;32m   9140\u001b[0m         \u001b[0;32melse\u001b[0m\u001b[0;34m:\u001b[0m\u001b[0;34m\u001b[0m\u001b[0;34m\u001b[0m\u001b[0m\n",
            "\u001b[0;32m/usr/local/lib/python3.7/dist-packages/pandas/core/reshape/merge.py\u001b[0m in \u001b[0;36mmerge\u001b[0;34m(left, right, how, on, left_on, right_on, left_index, right_index, sort, suffixes, copy, indicator, validate)\u001b[0m\n\u001b[1;32m    119\u001b[0m         \u001b[0mvalidate\u001b[0m\u001b[0;34m=\u001b[0m\u001b[0mvalidate\u001b[0m\u001b[0;34m,\u001b[0m\u001b[0;34m\u001b[0m\u001b[0;34m\u001b[0m\u001b[0m\n\u001b[1;32m    120\u001b[0m     )\n\u001b[0;32m--> 121\u001b[0;31m     \u001b[0;32mreturn\u001b[0m \u001b[0mop\u001b[0m\u001b[0;34m.\u001b[0m\u001b[0mget_result\u001b[0m\u001b[0;34m(\u001b[0m\u001b[0;34m)\u001b[0m\u001b[0;34m\u001b[0m\u001b[0;34m\u001b[0m\u001b[0m\n\u001b[0m\u001b[1;32m    122\u001b[0m \u001b[0;34m\u001b[0m\u001b[0m\n\u001b[1;32m    123\u001b[0m \u001b[0;34m\u001b[0m\u001b[0m\n",
            "\u001b[0;32m/usr/local/lib/python3.7/dist-packages/pandas/core/reshape/merge.py\u001b[0m in \u001b[0;36mget_result\u001b[0;34m(self)\u001b[0m\n\u001b[1;32m    716\u001b[0m \u001b[0;34m\u001b[0m\u001b[0m\n\u001b[1;32m    717\u001b[0m         llabels, rlabels = _items_overlap_with_suffix(\n\u001b[0;32m--> 718\u001b[0;31m             \u001b[0mself\u001b[0m\u001b[0;34m.\u001b[0m\u001b[0mleft\u001b[0m\u001b[0;34m.\u001b[0m\u001b[0m_info_axis\u001b[0m\u001b[0;34m,\u001b[0m \u001b[0mself\u001b[0m\u001b[0;34m.\u001b[0m\u001b[0mright\u001b[0m\u001b[0;34m.\u001b[0m\u001b[0m_info_axis\u001b[0m\u001b[0;34m,\u001b[0m \u001b[0mself\u001b[0m\u001b[0;34m.\u001b[0m\u001b[0msuffixes\u001b[0m\u001b[0;34m\u001b[0m\u001b[0;34m\u001b[0m\u001b[0m\n\u001b[0m\u001b[1;32m    719\u001b[0m         )\n\u001b[1;32m    720\u001b[0m \u001b[0;34m\u001b[0m\u001b[0m\n",
            "\u001b[0;32m/usr/local/lib/python3.7/dist-packages/pandas/core/reshape/merge.py\u001b[0m in \u001b[0;36m_items_overlap_with_suffix\u001b[0;34m(left, right, suffixes)\u001b[0m\n\u001b[1;32m   2312\u001b[0m \u001b[0;34m\u001b[0m\u001b[0m\n\u001b[1;32m   2313\u001b[0m     \u001b[0;32mif\u001b[0m \u001b[0;32mnot\u001b[0m \u001b[0mlsuffix\u001b[0m \u001b[0;32mand\u001b[0m \u001b[0;32mnot\u001b[0m \u001b[0mrsuffix\u001b[0m\u001b[0;34m:\u001b[0m\u001b[0;34m\u001b[0m\u001b[0;34m\u001b[0m\u001b[0m\n\u001b[0;32m-> 2314\u001b[0;31m         \u001b[0;32mraise\u001b[0m \u001b[0mValueError\u001b[0m\u001b[0;34m(\u001b[0m\u001b[0;34mf\"columns overlap but no suffix specified: {to_rename}\"\u001b[0m\u001b[0;34m)\u001b[0m\u001b[0;34m\u001b[0m\u001b[0;34m\u001b[0m\u001b[0m\n\u001b[0m\u001b[1;32m   2315\u001b[0m \u001b[0;34m\u001b[0m\u001b[0m\n\u001b[1;32m   2316\u001b[0m     \u001b[0;32mdef\u001b[0m \u001b[0mrenamer\u001b[0m\u001b[0;34m(\u001b[0m\u001b[0mx\u001b[0m\u001b[0;34m,\u001b[0m \u001b[0msuffix\u001b[0m\u001b[0;34m)\u001b[0m\u001b[0;34m:\u001b[0m\u001b[0;34m\u001b[0m\u001b[0;34m\u001b[0m\u001b[0m\n",
            "\u001b[0;31mValueError\u001b[0m: columns overlap but no suffix specified: Index(['total_balls_faced', 'total_balls_bowled'], dtype='object')"
          ]
        }
      ],
      "source": [
        "#ipl_merged_scorecard =ipl_merged_scorecard.set_index(\"playername\")\n",
        "#ipl_merged_scorecard.drop_duplicates(inplace=True)\n",
        "#player_avg = player_avg.set_index(\"playername\")\n",
        "#ipl_merged_scorecard  = ipl_merged_scorecard.join(player_avg,how='outer')"
      ]
    },
    {
      "cell_type": "code",
      "execution_count": null,
      "id": "6b6e2b00",
      "metadata": {
        "id": "6b6e2b00"
      },
      "outputs": [],
      "source": [
        "ipl_merged_scorecard"
      ]
    },
    {
      "cell_type": "code",
      "execution_count": 161,
      "id": "349c8ceb",
      "metadata": {
        "id": "349c8ceb"
      },
      "outputs": [],
      "source": [
        "pointsconfig = {\n",
        "        'total_runs': 1,\n",
        "        'run_6': 2,\n",
        "        'run_4': 1,\n",
        "        '>=30':4,\n",
        "        '>=50': 8,\n",
        "        '>=100': 16,\n",
        "        'duck': -2,\n",
        "        'total_wickets': 25,\n",
        "        '<=3W':4,\n",
        "        '>=4W': 8,\n",
        "        '>=5W': 16,\n",
        "        'maiden_overs': 8,\n",
        "        '<=5E': 6,\n",
        "        '<6E': 4,\n",
        "        '<7E': 2,\n",
        "        '>10E': -2,\n",
        "        '>11E': -4,\n",
        "        '>12E': -6\n",
        "    }"
      ]
    },
    {
      "cell_type": "code",
      "execution_count": 162,
      "id": "360ce31d",
      "metadata": {
        "id": "360ce31d"
      },
      "outputs": [],
      "source": [
        "        ipl_merged_scorecard['total_runs_points'] = ipl_merged_scorecard['total_runs'] * pointsconfig['total_runs']\n",
        "        ipl_merged_scorecard['run_6_points'] = pointsconfig['run_6'] *  ipl_merged_scorecard['run_6']\n",
        "        ipl_merged_scorecard['run_4_points'] = pointsconfig['run_4'] *  ipl_merged_scorecard['run_4']\n",
        "        ipl_merged_scorecard['30_Run_Points'] = pointsconfig['>=30'] *  ipl_merged_scorecard['total_runs_30']\n",
        "        ipl_merged_scorecard['50_Run_Points'] = pointsconfig['>=50'] *  ipl_merged_scorecard['total_runs_50']\n",
        "        ipl_merged_scorecard['100_Run_Points'] = pointsconfig['>=100'] *  ipl_merged_scorecard['total_runs_100']\n",
        "        ipl_merged_scorecard['duck_Points'] = pointsconfig['duck'] *  ipl_merged_scorecard['total_runs_0']\n",
        "        ipl_merged_scorecard['total_bat_points'] = np.nan\n",
        "        ipl_merged_scorecard['total_bat_points'] = ipl_merged_scorecard['total_runs_points'].add(ipl_merged_scorecard['run_6_points'], fill_value=0). \\\n",
        "            add(ipl_merged_scorecard['run_4_points'], fill_value=0).add(ipl_merged_scorecard['30_Run_Points'], fill_value=0).\\\n",
        "            add(ipl_merged_scorecard['50_Run_Points'], fill_value=0).add(ipl_merged_scorecard['100_Run_Points'], fill_value=0).\\\n",
        "            add(ipl_merged_scorecard['duck_Points'], fill_value=0)\n",
        "        ipl_merged_scorecard['total_bat_points'] = np.where(ipl_merged_scorecard['total_balls_faced'] >= 1, ipl_merged_scorecard['total_bat_points'], np.nan)"
      ]
    },
    {
      "cell_type": "code",
      "execution_count": 163,
      "id": "d93eaf89",
      "metadata": {
        "colab": {
          "base_uri": "https://localhost:8080/"
        },
        "id": "d93eaf89",
        "outputId": "6459932d-07c7-4fcb-e718-2932031ffbad"
      },
      "outputs": [
        {
          "output_type": "stream",
          "name": "stdout",
          "text": [
            "<class 'pandas.core.frame.DataFrame'>\n",
            "Int64Index: 17151 entries, 0 to 17150\n",
            "Data columns (total 41 columns):\n",
            " #   Column                    Non-Null Count  Dtype  \n",
            "---  ------                    --------------  -----  \n",
            " 0   id                        17151 non-null  int64  \n",
            " 1   playername                17151 non-null  object \n",
            " 2   total_runs                12162 non-null  float64\n",
            " 3   total_balls_faced         12162 non-null  float64\n",
            " 4   total_legal_balls_faced   12111 non-null  float64\n",
            " 5   run_6                     4530 non-null   float64\n",
            " 6   run_4                     7451 non-null   float64\n",
            " 7   is_wicket                 12162 non-null  float64\n",
            " 8   total_runs_30             12162 non-null  float64\n",
            " 9   total_runs_50             12162 non-null  float64\n",
            " 10  total_runs_100            12162 non-null  float64\n",
            " 11  total_runs_0              12162 non-null  float64\n",
            " 12  batsmen_innings           12162 non-null  float64\n",
            " 13  Playing Team              12162 non-null  object \n",
            " 14  Opponent Team_x           12149 non-null  object \n",
            " 15  total_wickets             5456 non-null   float64\n",
            " 16  total_balls_bowled        9667 non-null   float64\n",
            " 17  total_legal_balls_bowled  9667 non-null   float64\n",
            " 18  total_runs_given          9667 non-null   float64\n",
            " 19  total_wickets_3           5456 non-null   float64\n",
            " 20  total_wickets_4           5456 non-null   float64\n",
            " 21  total_wickets_5           5456 non-null   float64\n",
            " 22  maiden_overs              9667 non-null   float64\n",
            " 23  bowlers_innings           9667 non-null   float64\n",
            " 24  Playing team              9667 non-null   object \n",
            " 25  Opponent Team_y           9655 non-null   object \n",
            " 26  economy_rate              9667 non-null   float64\n",
            " 27  eco less than 5           9667 non-null   float64\n",
            " 28  eco 5-5.99                9667 non-null   float64\n",
            " 29  eco 6-7                   9667 non-null   float64\n",
            " 30  eco 7-10                  9667 non-null   float64\n",
            " 31  eco 11-12                 9667 non-null   float64\n",
            " 32  eco greater than 12       9667 non-null   float64\n",
            " 33  total_runs_points         12162 non-null  float64\n",
            " 34  run_6_points              4530 non-null   float64\n",
            " 35  run_4_points              7451 non-null   float64\n",
            " 36  30_Run_Points             12162 non-null  float64\n",
            " 37  50_Run_Points             12162 non-null  float64\n",
            " 38  100_Run_Points            12162 non-null  float64\n",
            " 39  duck_Points               12162 non-null  float64\n",
            " 40  total_bat_points          12162 non-null  float64\n",
            "dtypes: float64(35), int64(1), object(5)\n",
            "memory usage: 5.5+ MB\n"
          ]
        }
      ],
      "source": [
        "ipl_merged_scorecard.info()"
      ]
    },
    {
      "cell_type": "code",
      "execution_count": 164,
      "id": "e1dbd87b",
      "metadata": {
        "id": "e1dbd87b"
      },
      "outputs": [],
      "source": [
        "        ipl_merged_scorecard['total_wicket_points'] = ipl_merged_scorecard['total_wickets'] * pointsconfig['total_wickets']\n",
        "        ipl_merged_scorecard['<=5E_points'] = pointsconfig['<=5E'] *  ipl_merged_scorecard['eco less than 5']\n",
        "        ipl_merged_scorecard['<6E_points'] = pointsconfig['<6E'] *  ipl_merged_scorecard['eco 5-5.99']\n",
        "        ipl_merged_scorecard['<7E_points'] = pointsconfig['<7E'] *  ipl_merged_scorecard['eco 6-7']\n",
        "        ipl_merged_scorecard['>10E_points'] = pointsconfig['>10E'] *  ipl_merged_scorecard['eco 7-10']\n",
        "        ipl_merged_scorecard['>11E_points'] = pointsconfig['>11E'] *  ipl_merged_scorecard['eco 11-12']\n",
        "        ipl_merged_scorecard['>12E_points'] = pointsconfig['>12E'] *  ipl_merged_scorecard['eco greater than 12']\n",
        "        ipl_merged_scorecard['3W_points'] = pointsconfig['>=100'] *  ipl_merged_scorecard['total_wickets_3']\n",
        "        ipl_merged_scorecard['4W_points'] = pointsconfig['>=100'] *  ipl_merged_scorecard['total_wickets_4']\n",
        "        ipl_merged_scorecard['5W_points'] = pointsconfig['>=100'] *  ipl_merged_scorecard['total_wickets_5']\n",
        "        ipl_merged_scorecard['maiden_overs_points'] = pointsconfig['>=100'] *  ipl_merged_scorecard['maiden_overs']\n",
        "        ipl_merged_scorecard['total_bowl_points'] = np.nan\n",
        "        ipl_merged_scorecard['total_bowl_points'] = ipl_merged_scorecard['total_wicket_points'].add(ipl_merged_scorecard['<=5E_points'], fill_value=0). \\\n",
        "            add(ipl_merged_scorecard['<6E_points'], fill_value=0).add(ipl_merged_scorecard['<7E_points'], fill_value=0).\\\n",
        "            add(ipl_merged_scorecard['>10E_points'], fill_value=0).add(ipl_merged_scorecard['>11E_points'], fill_value=0).\\\n",
        "            add(ipl_merged_scorecard['>12E_points'], fill_value=0).add(ipl_merged_scorecard['3W_points'], fill_value=0).\\\n",
        "            add(ipl_merged_scorecard['4W_points'], fill_value=0).add(ipl_merged_scorecard['5W_points'], fill_value=0).\\\n",
        "            add(ipl_merged_scorecard['maiden_overs_points'], fill_value=0)\n",
        "        ipl_merged_scorecard['total_bowl_points'] = np.where(ipl_merged_scorecard['total_balls_bowled'] >= 1, ipl_merged_scorecard['total_bowl_points'], np.nan)"
      ]
    },
    {
      "cell_type": "code",
      "execution_count": null,
      "id": "6d2e5b19",
      "metadata": {
        "id": "6d2e5b19"
      },
      "outputs": [],
      "source": [
        "ipl_merged_scorecard"
      ]
    },
    {
      "cell_type": "code",
      "execution_count": null,
      "id": "46e07b25",
      "metadata": {
        "id": "46e07b25"
      },
      "outputs": [],
      "source": [
        ""
      ]
    },
    {
      "cell_type": "code",
      "execution_count": 166,
      "id": "c26380b1",
      "metadata": {
        "id": "c26380b1"
      },
      "outputs": [],
      "source": [
        "ipl_merged_scorecard['total_points'] = ipl_merged_scorecard['total_bat_points'].add(ipl_merged_scorecard['total_bowl_points'], fill_value=0)"
      ]
    },
    {
      "cell_type": "code",
      "execution_count": null,
      "id": "699a34a1",
      "metadata": {
        "id": "699a34a1"
      },
      "outputs": [],
      "source": [
        "ipl_merged_scorecard"
      ]
    },
    {
      "cell_type": "code",
      "execution_count": 167,
      "id": "3fb60d65",
      "metadata": {
        "id": "3fb60d65"
      },
      "outputs": [],
      "source": [
        "from sklearn.model_selection import train_test_split\n",
        "from sklearn.preprocessing import OneHotEncoder"
      ]
    },
    {
      "cell_type": "code",
      "execution_count": 171,
      "id": "e9c295d5",
      "metadata": {
        "colab": {
          "base_uri": "https://localhost:8080/"
        },
        "id": "e9c295d5",
        "outputId": "64f7c693-63ea-455e-aee0-3b5613347b70"
      },
      "outputs": [
        {
          "output_type": "stream",
          "name": "stdout",
          "text": [
            "<class 'pandas.core.frame.DataFrame'>\n",
            "Int64Index: 17151 entries, 0 to 17150\n",
            "Data columns (total 54 columns):\n",
            " #   Column                    Non-Null Count  Dtype  \n",
            "---  ------                    --------------  -----  \n",
            " 0   id                        17151 non-null  int64  \n",
            " 1   playername                17151 non-null  object \n",
            " 2   total_runs                12162 non-null  float64\n",
            " 3   total_balls_faced         12162 non-null  float64\n",
            " 4   total_legal_balls_faced   12111 non-null  float64\n",
            " 5   run_6                     4530 non-null   float64\n",
            " 6   run_4                     7451 non-null   float64\n",
            " 7   is_wicket                 12162 non-null  float64\n",
            " 8   total_runs_30             12162 non-null  float64\n",
            " 9   total_runs_50             12162 non-null  float64\n",
            " 10  total_runs_100            12162 non-null  float64\n",
            " 11  total_runs_0              12162 non-null  float64\n",
            " 12  batsmen_innings           12162 non-null  float64\n",
            " 13  Playing Team              12162 non-null  object \n",
            " 14  Opponent Team_x           12149 non-null  object \n",
            " 15  total_wickets             5456 non-null   float64\n",
            " 16  total_balls_bowled        9667 non-null   float64\n",
            " 17  total_legal_balls_bowled  9667 non-null   float64\n",
            " 18  total_runs_given          9667 non-null   float64\n",
            " 19  total_wickets_3           5456 non-null   float64\n",
            " 20  total_wickets_4           5456 non-null   float64\n",
            " 21  total_wickets_5           5456 non-null   float64\n",
            " 22  maiden_overs              9667 non-null   float64\n",
            " 23  bowlers_innings           9667 non-null   float64\n",
            " 24  Playing team              9667 non-null   object \n",
            " 25  Opponent Team_y           9655 non-null   object \n",
            " 26  economy_rate              9667 non-null   float64\n",
            " 27  eco less than 5           9667 non-null   float64\n",
            " 28  eco 5-5.99                9667 non-null   float64\n",
            " 29  eco 6-7                   9667 non-null   float64\n",
            " 30  eco 7-10                  9667 non-null   float64\n",
            " 31  eco 11-12                 9667 non-null   float64\n",
            " 32  eco greater than 12       9667 non-null   float64\n",
            " 33  total_runs_points         12162 non-null  float64\n",
            " 34  run_6_points              4530 non-null   float64\n",
            " 35  run_4_points              7451 non-null   float64\n",
            " 36  30_Run_Points             12162 non-null  float64\n",
            " 37  50_Run_Points             12162 non-null  float64\n",
            " 38  100_Run_Points            12162 non-null  float64\n",
            " 39  duck_Points               12162 non-null  float64\n",
            " 40  total_bat_points          12162 non-null  float64\n",
            " 41  total_wicket_points       5456 non-null   float64\n",
            " 42  <=5E_points               9667 non-null   float64\n",
            " 43  <6E_points                9667 non-null   float64\n",
            " 44  <7E_points                9667 non-null   float64\n",
            " 45  >10E_points               9667 non-null   float64\n",
            " 46  >11E_points               9667 non-null   float64\n",
            " 47  >12E_points               9667 non-null   float64\n",
            " 48  3W_points                 5456 non-null   float64\n",
            " 49  4W_points                 5456 non-null   float64\n",
            " 50  5W_points                 5456 non-null   float64\n",
            " 51  maiden_overs_points       9667 non-null   float64\n",
            " 52  total_bowl_points         9667 non-null   float64\n",
            " 53  total_points              17151 non-null  float64\n",
            "dtypes: float64(48), int64(1), object(5)\n",
            "memory usage: 7.2+ MB\n"
          ]
        }
      ],
      "source": [
        "ipl_merged_scorecard.info()"
      ]
    },
    {
      "cell_type": "code",
      "execution_count": 168,
      "id": "96934d3a",
      "metadata": {
        "id": "96934d3a"
      },
      "outputs": [],
      "source": [
        "encoder=OneHotEncoder(sparse=False)"
      ]
    },
    {
      "cell_type": "code",
      "execution_count": null,
      "id": "1f33e2bc",
      "metadata": {
        "id": "1f33e2bc"
      },
      "outputs": [],
      "source": [
        "#features=encoder.fit_transform(ipl_merged_scorecard[[\"Test1\",\"Test2\",\"Test2\"]])"
      ]
    },
    {
      "cell_type": "code",
      "execution_count": null,
      "id": "64fb9268",
      "metadata": {
        "id": "64fb9268"
      },
      "outputs": [],
      "source": [
        "ipl_merged_scorecard.info()"
      ]
    },
    {
      "cell_type": "code",
      "source": [
        "non_numerical_cols = []\n",
        "\n",
        "for col in ipl_merged_scorecard.columns:\n",
        "    if ipl_merged_scorecard[col].dtype not in ['int64','float64']:\n",
        "        non_numerical_cols.append(col)\n",
        "\n",
        "non_numerical_cols"
      ],
      "metadata": {
        "colab": {
          "base_uri": "https://localhost:8080/"
        },
        "id": "tDG6tquPwE6O",
        "outputId": "ba2c4eff-fbc8-4658-bdc8-8a59287943a6"
      },
      "id": "tDG6tquPwE6O",
      "execution_count": 173,
      "outputs": [
        {
          "output_type": "execute_result",
          "data": {
            "text/plain": [
              "['playername',\n",
              " 'Playing Team',\n",
              " 'Opponent Team_x',\n",
              " 'Playing team',\n",
              " 'Opponent Team_y']"
            ]
          },
          "metadata": {},
          "execution_count": 173
        }
      ]
    },
    {
      "cell_type": "code",
      "execution_count": 174,
      "id": "140a3401",
      "metadata": {
        "id": "140a3401"
      },
      "outputs": [],
      "source": [
        "features=encoder.fit_transform(ipl_merged_scorecard[non_numerical_cols])"
      ]
    },
    {
      "cell_type": "code",
      "execution_count": 175,
      "id": "6dd6d5f5",
      "metadata": {
        "id": "6dd6d5f5"
      },
      "outputs": [],
      "source": [
        "encoder.get_feature_names_out()\n",
        "ipl_merged_scorecard_final=pd.DataFrame(features, columns=encoder.get_feature_names_out())"
      ]
    },
    {
      "cell_type": "code",
      "execution_count": 176,
      "id": "672caaac",
      "metadata": {
        "id": "672caaac"
      },
      "outputs": [],
      "source": [
        "from sklearn.preprocessing import StandardScaler"
      ]
    },
    {
      "cell_type": "code",
      "execution_count": 177,
      "id": "58439cbe",
      "metadata": {
        "id": "58439cbe"
      },
      "outputs": [],
      "source": [
        "scaler=StandardScaler()"
      ]
    },
    {
      "cell_type": "code",
      "execution_count": 180,
      "id": "d046b65b",
      "metadata": {
        "colab": {
          "base_uri": "https://localhost:8080/"
        },
        "id": "d046b65b",
        "outputId": "e10e40ca-a250-46d3-c30e-935ba4c0d216"
      },
      "outputs": [
        {
          "output_type": "execute_result",
          "data": {
            "text/plain": [
              "(17151, 644)"
            ]
          },
          "metadata": {},
          "execution_count": 180
        }
      ],
      "source": [
        "ipl_merged_scorecard_final.shape"
      ]
    },
    {
      "cell_type": "code",
      "execution_count": null,
      "id": "d740b5f3",
      "metadata": {
        "id": "d740b5f3"
      },
      "outputs": [],
      "source": [
        "features_to_scale=[\"test1\",\"test2\",\"test3\"]\n",
        "ipl_merged_scorecard_final[features_to_scale]=scaler.fit_transform(ipl_merged_scorecard[features_to_scale])"
      ]
    },
    {
      "cell_type": "code",
      "execution_count": null,
      "id": "c966147e",
      "metadata": {
        "id": "c966147e"
      },
      "outputs": [],
      "source": [
        "for col in ipl_merged_scorecard.columns:\n",
        "    print(col)"
      ]
    },
    {
      "cell_type": "code",
      "execution_count": 181,
      "id": "cd27a4e3",
      "metadata": {
        "id": "cd27a4e3"
      },
      "outputs": [],
      "source": [
        "ipl_merged_scorecard.replace([np.inf, -np.inf], np.nan, inplace=True)"
      ]
    },
    {
      "cell_type": "code",
      "execution_count": 182,
      "id": "0441bd46",
      "metadata": {
        "id": "0441bd46"
      },
      "outputs": [],
      "source": [
        "ipl_merged_scorecard.fillna(0,inplace=True)"
      ]
    },
    {
      "cell_type": "code",
      "execution_count": null,
      "id": "b2e5b8f7",
      "metadata": {
        "scrolled": true,
        "id": "b2e5b8f7"
      },
      "outputs": [],
      "source": [
        "ipl_merged_scorecard.info()"
      ]
    },
    {
      "cell_type": "code",
      "execution_count": null,
      "id": "0518f0a5",
      "metadata": {
        "id": "0518f0a5"
      },
      "outputs": [],
      "source": [
        "ipl_merged_scorecard"
      ]
    },
    {
      "cell_type": "code",
      "execution_count": 183,
      "id": "e0877098",
      "metadata": {
        "id": "e0877098"
      },
      "outputs": [],
      "source": [
        "X = ipl_merged_scorecard[['total_runs','run_6','run_4','total_runs_30','total_runs_50','total_runs_100','total_runs_30','total_wickets','total_balls_bowled','total_wickets_3','total_wickets_4','total_wickets_5','maiden_overs','economy_rate','eco less than 5','eco 5-5.99','eco 6-7','eco 7-10','eco 11-12','eco greater than 12'  ]]\n",
        "y = ipl_merged_scorecard['total_points']"
      ]
    },
    {
      "cell_type": "code",
      "execution_count": 184,
      "id": "f1fe50ea",
      "metadata": {
        "id": "f1fe50ea"
      },
      "outputs": [],
      "source": [
        "x_train, x_test,y_train,y_test = train_test_split(X,y,test_size =0.2)"
      ]
    },
    {
      "cell_type": "code",
      "execution_count": 185,
      "id": "257a21d0",
      "metadata": {
        "id": "257a21d0"
      },
      "outputs": [],
      "source": [
        "from sklearn.linear_model import LinearRegression\n",
        "clf = LinearRegression()"
      ]
    },
    {
      "cell_type": "code",
      "execution_count": 186,
      "id": "1f3682ef",
      "metadata": {
        "colab": {
          "base_uri": "https://localhost:8080/"
        },
        "id": "1f3682ef",
        "outputId": "1111f58e-035c-4bed-a17a-14e8539bee6d"
      },
      "outputs": [
        {
          "output_type": "execute_result",
          "data": {
            "text/plain": [
              "0.9998005906230796"
            ]
          },
          "metadata": {},
          "execution_count": 186
        }
      ],
      "source": [
        "clf.fit(x_train,y_train)\n",
        "clf.score(x_train,y_train)"
      ]
    },
    {
      "cell_type": "code",
      "execution_count": null,
      "id": "581ac8ed",
      "metadata": {
        "id": "581ac8ed"
      },
      "outputs": [],
      "source": [
        "x_test"
      ]
    },
    {
      "cell_type": "code",
      "execution_count": 212,
      "id": "3b013847",
      "metadata": {
        "id": "3b013847"
      },
      "outputs": [],
      "source": [
        "y_pred = clf.predict(x_test)"
      ]
    },
    {
      "cell_type": "code",
      "execution_count": 131,
      "id": "6796432a",
      "metadata": {
        "scrolled": true,
        "colab": {
          "base_uri": "https://localhost:8080/"
        },
        "id": "6796432a",
        "outputId": "54a98bbd-51f0-4b9e-912f-be182a74fb1e"
      },
      "outputs": [
        {
          "output_type": "execute_result",
          "data": {
            "text/plain": [
              "0.9997885811711923"
            ]
          },
          "metadata": {},
          "execution_count": 131
        }
      ],
      "source": [
        "clf.score(x_test,y_test)"
      ]
    },
    {
      "cell_type": "code",
      "execution_count": 132,
      "id": "e4c3d71d",
      "metadata": {
        "id": "e4c3d71d"
      },
      "outputs": [],
      "source": [
        "ipl_merged_scorecard.to_csv('file1.csv')"
      ]
    },
    {
      "cell_type": "code",
      "execution_count": 133,
      "id": "b4141e03",
      "metadata": {
        "colab": {
          "base_uri": "https://localhost:8080/"
        },
        "id": "b4141e03",
        "outputId": "e0ada400-3b50-46b7-f053-c1986d641ad1"
      },
      "outputs": [
        {
          "output_type": "stream",
          "name": "stderr",
          "text": [
            "/usr/local/lib/python3.7/dist-packages/IPython/core/interactiveshell.py:2882: DtypeWarning: Columns (14,15) have mixed types.Specify dtype option on import or set low_memory=False.\n",
            "  exec(code_obj, self.user_global_ns, self.user_ns)\n"
          ]
        }
      ],
      "source": [
        "test=pd.read_csv(r'/content/file1.csv')"
      ]
    },
    {
      "cell_type": "code",
      "execution_count": null,
      "id": "9d5c85f5",
      "metadata": {
        "id": "9d5c85f5"
      },
      "outputs": [],
      "source": [
        "test_pred=clf.predict(test)"
      ]
    },
    {
      "cell_type": "code",
      "execution_count": null,
      "id": "ddd0d8d6",
      "metadata": {
        "id": "ddd0d8d6"
      },
      "outputs": [],
      "source": [
        "test_pred"
      ]
    },
    {
      "cell_type": "code",
      "execution_count": null,
      "id": "1a175db2",
      "metadata": {
        "id": "1a175db2"
      },
      "outputs": [],
      "source": [
        "df1 = pd.DataFrame(test_pred, columns =['A'])"
      ]
    },
    {
      "cell_type": "code",
      "execution_count": null,
      "id": "711026b6",
      "metadata": {
        "id": "711026b6"
      },
      "outputs": [],
      "source": [
        "input_df=pd.read_csv(r'C:\\Users\\Yogesh Arora\\inputdf.csv')"
      ]
    },
    {
      "cell_type": "code",
      "execution_count": null,
      "id": "d6fb1a51",
      "metadata": {
        "id": "d6fb1a51"
      },
      "outputs": [],
      "source": [
        "output = pd.DataFrame({'ID': test.ID,\n",
        "                       'default': test_pred[:,1]})\n",
        "output.to_csv('./submission.csv', index=False)\n",
        "output"
      ]
    },
    {
      "cell_type": "code",
      "execution_count": null,
      "id": "4423b708",
      "metadata": {
        "id": "4423b708"
      },
      "outputs": [],
      "source": [
        "df1"
      ]
    },
    {
      "cell_type": "markdown",
      "id": "cee3a452",
      "metadata": {
        "id": "cee3a452"
      },
      "source": [
        "# Aggregation through Season "
      ]
    },
    {
      "cell_type": "code",
      "execution_count": null,
      "id": "b813ee32",
      "metadata": {
        "id": "b813ee32"
      },
      "outputs": [],
      "source": [
        "        batsmen_score_s = pd.DataFrame(matchdata.groupby(['season', 'batsman'])['batsman_runs'].sum()).\\\n",
        "            rename(columns={\"batsman_runs\": \"total_runs\"})\n",
        "        batsmen_scores_30_s = pd.DataFrame(((matchdata.groupby(['season', 'batsman'])['batsman_runs'].sum())>=30).astype(int)).\\\n",
        "            rename(columns={\"batsman_runs\": \"total_runs_30\"})\n",
        "        batsmen_scores_50_s = pd.DataFrame(((matchdata.groupby(['season', 'batsman'])['batsman_runs'].sum())>=50).astype(int)).\\\n",
        "            rename(columns={\"batsman_runs\": \"total_runs_50\"})\n",
        "        batsmen_scores_100_s = pd.DataFrame(((matchdata.groupby(['season', 'batsman'])['batsman_runs'].sum())>=100).astype(int)).\\\n",
        "            rename(columns={\"batsman_runs\": \"total_runs_100\"})\n",
        "        batsmen_scores_0_s = pd.DataFrame(((matchdata.groupby(['season', 'batsman'])['batsman_runs'].sum())==0).astype(int)).\\\n",
        "            rename(columns={\"batsman_runs\": \"total_runs_0\"})\n",
        "        batsmen_ball_faced_s = pd.DataFrame(matchdata.groupby(['season', 'batsman'])['over'].count()).\\\n",
        "            rename(columns={\"over\": \"total_balls_faced\"})\n",
        "        batsmen_ball_faced_legal_s = pd.DataFrame(matchdata[matchdata['ball'] <=6].groupby(['season', 'batsman'])['ball'].count()).\\\n",
        "            rename(columns={\"ball\": \"total_legal_balls_faced\"})\n",
        "        batsmen_scores6_s = pd.DataFrame(matchdata[matchdata['batsman_runs'] == 6].groupby(['season', 'batsman'])['batsman_runs'].count()).\\\n",
        "            rename(columns={\"batsman_runs\": \"run_6\"})\n",
        "        batsmen_scores4_s = pd.DataFrame(matchdata[matchdata['batsman_runs'] == 4].groupby(['season', 'batsman'])['batsman_runs'].count()).\\\n",
        "            rename(columns={\"batsman_runs\": \"run_4\"})\n",
        "        batsmen_position_s = pd.DataFrame(matchdata.groupby(['season', 'batsman'])['is_wicket'].min())\n",
        "       \n",
        "        \n",
        "        df_list_season = [batsmen_score_s, batsmen_ball_faced_s, batsmen_ball_faced_legal_s, batsmen_scores6_s, batsmen_scores4_s, batsmen_position_s,batsmen_scores_30_s,batsmen_scores_50_s,batsmen_scores_100_s,batsmen_scores_0_s]\n",
        "        batsmen_summary_season = pd.concat(df_list_season, join='outer', axis=1).fillna(np.nan).reset_index()\n",
        "        batsmen_summary_season = pd.merge(batsmen_summary_season, matchdata[['season', 'batsman', 'inning', 'batting_team', 'bowling_team']].\n",
        "                                   drop_duplicates(), on=['season', 'batsman'], how='left')\n",
        "        batsmen_summary_season.rename(columns={'inning': 'batsmen_innings', 'batsman': 'playername', 'batting_team': 'Playing Team',\n",
        "                                        'bowling_team': 'Opponent Team'}, inplace=True)"
      ]
    },
    {
      "cell_type": "code",
      "execution_count": null,
      "id": "25cdc9a4",
      "metadata": {
        "id": "25cdc9a4"
      },
      "outputs": [],
      "source": [
        " batsmen_summary_season"
      ]
    },
    {
      "cell_type": "code",
      "execution_count": null,
      "id": "1ebdc16c",
      "metadata": {
        "id": "1ebdc16c"
      },
      "outputs": [],
      "source": [
        "from sklearn import datasets, linear_model, metrics"
      ]
    },
    {
      "cell_type": "code",
      "execution_count": null,
      "id": "e4498115",
      "metadata": {
        "id": "e4498115"
      },
      "outputs": [],
      "source": [
        "boston = datasets.load_boston(return_X_y=False)"
      ]
    },
    {
      "cell_type": "code",
      "execution_count": null,
      "id": "b51e95de",
      "metadata": {
        "id": "b51e95de"
      },
      "outputs": [],
      "source": [
        "boston.data"
      ]
    },
    {
      "cell_type": "code",
      "execution_count": null,
      "id": "2d47cbfe",
      "metadata": {
        "id": "2d47cbfe"
      },
      "outputs": [],
      "source": [
        "boston_f = pd.Dataframe(boston,)"
      ]
    },
    {
      "cell_type": "code",
      "execution_count": null,
      "id": "ebdb73e8",
      "metadata": {
        "id": "ebdb73e8"
      },
      "outputs": [],
      "source": [
        ""
      ]
    },
    {
      "cell_type": "code",
      "execution_count": null,
      "id": "bd6222ed",
      "metadata": {
        "id": "bd6222ed"
      },
      "outputs": [],
      "source": [
        "X = ipl_merged_scorecard[['total_runs','run_6','run_4','total_runs_30','total_runs_50','total_runs_100','total_runs_30','total_wickets','total_balls_bowled','total_wickets_3','total_wickets_4','total_wickets_5','maiden_overs','economy_rate','eco less than 5','eco 5-5.99','eco 6-7','eco 7-10','eco 11-12','eco greater than 12'  ]]\n",
        "y = ipl_merged_scorecard['total_points']\n",
        "\n",
        "# splitting X and y into training and testing sets\n",
        "from sklearn.model_selection import train_test_split\n",
        "X_train, X_test, y_train, y_test = train_test_split(X, y, test_size=0.2,\n",
        "\t\t\t\t\t\t\t\t\t\t\t\t\trandom_state=1)\n",
        "\n",
        "# create linear regression object\n",
        "reg = linear_model.LinearRegression()\n",
        "\n",
        "# train the model using the training sets\n",
        "reg.fit(X_train, y_train)\n"
      ]
    },
    {
      "cell_type": "code",
      "execution_count": null,
      "id": "cb5f8017",
      "metadata": {
        "id": "cb5f8017"
      },
      "outputs": [],
      "source": [
        "new1=reg.predict(X_test)"
      ]
    },
    {
      "cell_type": "markdown",
      "id": "9a0f4313",
      "metadata": {
        "id": "9a0f4313"
      },
      "source": [
        ""
      ]
    },
    {
      "cell_type": "code",
      "execution_count": null,
      "id": "298da987",
      "metadata": {
        "id": "298da987"
      },
      "outputs": [],
      "source": [
        "new1"
      ]
    },
    {
      "cell_type": "code",
      "execution_count": null,
      "id": "dc1a56b0",
      "metadata": {
        "id": "dc1a56b0"
      },
      "outputs": [],
      "source": [
        "reg.score(X_test,y_test)"
      ]
    },
    {
      "cell_type": "code",
      "execution_count": null,
      "id": "05bd2ba3",
      "metadata": {
        "id": "05bd2ba3"
      },
      "outputs": [],
      "source": [
        "df = pd.DataFrame(new1, columns =['A'])"
      ]
    },
    {
      "cell_type": "code",
      "execution_count": null,
      "id": "1a29928e",
      "metadata": {
        "id": "1a29928e"
      },
      "outputs": [],
      "source": [
        "df"
      ]
    },
    {
      "cell_type": "code",
      "execution_count": null,
      "id": "8d69260b",
      "metadata": {
        "id": "8d69260b"
      },
      "outputs": [],
      "source": [
        ""
      ]
    },
    {
      "cell_type": "markdown",
      "source": [
        "# Evaluation\n",
        "\n",
        "\n",
        "\n",
        "---\n",
        "\n",
        "\n"
      ],
      "metadata": {
        "id": "5nXgE-hox24S"
      },
      "id": "5nXgE-hox24S"
    },
    {
      "cell_type": "code",
      "source": [
        "from sklearn.metrics import mean_squared_error, mean_absolute_error, r2_score\n",
        "\n",
        "print( \"R2 Score: \", r2_score(y_test , y_pred) )\n",
        "print( \"MSE: \", mean_squared_error(y_test , y_pred) )\n",
        "print( \"RMSE: \", np.sqrt(mean_squared_error(y_test , y_pred)) )\n",
        "print( \"MAE: \", mean_absolute_error(y_test , y_pred) )"
      ],
      "metadata": {
        "colab": {
          "base_uri": "https://localhost:8080/"
        },
        "id": "U3Y81cgPyEFS",
        "outputId": "ddd005d5-91c5-4244-8641-fd85e1b94e89"
      },
      "id": "U3Y81cgPyEFS",
      "execution_count": 213,
      "outputs": [
        {
          "output_type": "stream",
          "name": "stdout",
          "text": [
            "R2 Score:  0.9997938882016846\n",
            "MSE:  0.2151385146160482\n",
            "RMSE:  0.46383026487719425\n",
            "MAE:  0.24708168630601318\n"
          ]
        }
      ]
    },
    {
      "cell_type": "code",
      "source": [
        "errors = y_test - y_pred\n",
        "\n",
        "plt.figure(figsize=(20,5))\n",
        "sns.distplot(errors, bins = \"sturges\")\n",
        "plt.axvline(x = errors.mean() , color =\"r\", label = f\"Mean of errors: {errors.mean()}\")\n",
        "plt.legend()\n",
        "plt.show()"
      ],
      "metadata": {
        "colab": {
          "base_uri": "https://localhost:8080/",
          "height": 300
        },
        "id": "ec8sDzPj2dXI",
        "outputId": "3b54a906-4782-45c2-ce85-80b04adc2352"
      },
      "id": "ec8sDzPj2dXI",
      "execution_count": 218,
      "outputs": [
        {
          "output_type": "stream",
          "name": "stderr",
          "text": [
            "/usr/local/lib/python3.7/dist-packages/seaborn/distributions.py:2619: FutureWarning: `distplot` is a deprecated function and will be removed in a future version. Please adapt your code to use either `displot` (a figure-level function with similar flexibility) or `histplot` (an axes-level function for histograms).\n",
            "  warnings.warn(msg, FutureWarning)\n"
          ]
        },
        {
          "output_type": "display_data",
          "data": {
            "text/plain": [
              "<Figure size 1440x360 with 1 Axes>"
            ],
            "image/png": "[encoded data removed]"
          },
          "metadata": {
            "needs_background": "light"
          }
        }
      ]
    },
    {
      "cell_type": "code",
      "source": [
        "len(errors)"
      ],
      "metadata": {
        "colab": {
          "base_uri": "https://localhost:8080/"
        },
        "id": "ymW2PZrh5UFk",
        "outputId": "8cb32c48-9c97-4111-9e01-571c10148ca6"
      },
      "id": "ymW2PZrh5UFk",
      "execution_count": 226,
      "outputs": [
        {
          "output_type": "execute_result",
          "data": {
            "text/plain": [
              "3431"
            ]
          },
          "metadata": {},
          "execution_count": 226
        }
      ]
    },
    {
      "cell_type": "code",
      "source": [
        "plt.figure(figsize=(20,5))\n",
        "plt.scatter(range(len(x_test)), errors)\n",
        "plt.axhline(y = errors.mean() , color =\"r\", label = f\"Mean of errors: {errors.mean()}\")\n",
        "plt.legend()\n",
        "plt.show()"
      ],
      "metadata": {
        "colab": {
          "base_uri": "https://localhost:8080/",
          "height": 340
        },
        "id": "y6_6_Oen5Dei",
        "outputId": "51e35eec-b85b-4ac4-b3db-30338d0f8c53"
      },
      "id": "y6_6_Oen5Dei",
      "execution_count": 228,
      "outputs": [
        {
          "output_type": "display_data",
          "data": {
            "text/plain": [
              "<Figure size 1440x360 with 1 Axes>"
            ],
            "image/png": "[encoded data removed]"
          },
          "metadata": {
            "needs_background": "light"
          }
        }
      ]
    },
    {
      "cell_type": "code",
      "source": [
        "import statsmodels.api as sm\n",
        "\n",
        "\n",
        "x_train_2 = sm.add_constant(x_train)\n",
        "ols = sm.OLS(y_train, x_train_2).fit()\n",
        "print(ols.summary())"
      ],
      "metadata": {
        "colab": {
          "base_uri": "https://localhost:8080/"
        },
        "id": "MdykYIo13Su6",
        "outputId": "45f3e3bf-ca25-49c6-a6b8-231e4291d73e"
      },
      "id": "MdykYIo13Su6",
      "execution_count": 220,
      "outputs": [
        {
          "output_type": "stream",
          "name": "stderr",
          "text": [
            "/usr/local/lib/python3.7/dist-packages/statsmodels/tools/_testing.py:19: FutureWarning: pandas.util.testing is deprecated. Use the functions in the public API at pandas.testing instead.\n",
            "  import pandas.util.testing as tm\n"
          ]
        },
        {
          "output_type": "stream",
          "name": "stdout",
          "text": [
            "                            OLS Regression Results                            \n",
            "==============================================================================\n",
            "Dep. Variable:           total_points   R-squared:                       1.000\n",
            "Model:                            OLS   Adj. R-squared:                  1.000\n",
            "Method:                 Least Squares   F-statistic:                 3.615e+06\n",
            "Date:                Wed, 22 Jun 2022   Prob (F-statistic):               0.00\n",
            "Time:                        19:24:38   Log-Likelihood:                -8631.3\n",
            "No. Observations:               13720   AIC:                         1.730e+04\n",
            "Df Residuals:                   13700   BIC:                         1.745e+04\n",
            "Df Model:                          19                                         \n",
            "Covariance Type:            nonrobust                                         \n",
            "=======================================================================================\n",
            "                          coef    std err          t      P>|t|      [0.025      0.975]\n",
            "---------------------------------------------------------------------------------------\n",
            "const                  -0.3452      0.009    -39.348      0.000      -0.362      -0.328\n",
            "total_runs              1.0192      0.001   1153.362      0.000       1.017       1.021\n",
            "run_6                   1.9425      0.007    276.806      0.000       1.929       1.956\n",
            "run_4                   0.9733      0.005    191.063      0.000       0.963       0.983\n",
            "total_runs_30           1.8786      0.010    190.702      0.000       1.859       1.898\n",
            "total_runs_50           7.6361      0.023    330.640      0.000       7.591       7.681\n",
            "total_runs_100         15.4310      0.075    206.376      0.000      15.284      15.578\n",
            "total_runs_30           1.8786      0.010    190.702      0.000       1.859       1.898\n",
            "total_wickets          25.0063      0.008   3200.044      0.000      24.991      25.022\n",
            "total_balls_bowled      0.0047      0.001      5.567      0.000       0.003       0.006\n",
            "total_wickets_3        15.9920      0.028    566.361      0.000      15.937      16.047\n",
            "total_wickets_4        15.9650      0.052    307.616      0.000      15.863      16.067\n",
            "total_wickets_5        15.9798      0.126    127.106      0.000      15.733      16.226\n",
            "maiden_overs           16.0283      0.032    504.262      0.000      15.966      16.091\n",
            "economy_rate            0.0109      0.002      5.525      0.000       0.007       0.015\n",
            "eco less than 5         5.9794      0.017    346.839      0.000       5.946       6.013\n",
            "eco 5-5.99              4.0218      0.019    213.015      0.000       3.985       4.059\n",
            "eco 6-7                 1.9829      0.019    105.966      0.000       1.946       2.020\n",
            "eco 7-10               -2.0266      0.016   -130.137      0.000      -2.057      -1.996\n",
            "eco 11-12              -4.0700      0.028   -146.620      0.000      -4.124      -4.016\n",
            "eco greater than 12    -6.0720      0.029   -208.835      0.000      -6.129      -6.015\n",
            "==============================================================================\n",
            "Omnibus:                     9166.691   Durbin-Watson:                   2.029\n",
            "Prob(Omnibus):                  0.000   Jarque-Bera (JB):            81807.203\n",
            "Skew:                          -3.306   Prob(JB):                         0.00\n",
            "Kurtosis:                      12.969   Cond. No.                     6.64e+16\n",
            "==============================================================================\n",
            "\n",
            "Warnings:\n",
            "[1] Standard Errors assume that the covariance matrix of the errors is correctly specified.\n",
            "[2] The smallest eigenvalue is 1.93e-27. This might indicate that there are\n",
            "strong multicollinearity problems or that the design matrix is singular.\n"
          ]
        },
        {
          "output_type": "stream",
          "name": "stderr",
          "text": [
            "/usr/local/lib/python3.7/dist-packages/statsmodels/tsa/tsatools.py:117: FutureWarning: In a future version of pandas all arguments of concat except for the argument 'objs' will be keyword-only\n",
            "  x = pd.concat(x[::order], 1)\n"
          ]
        }
      ]
    },
    {
      "cell_type": "code",
      "source": [
        "from statsmodels.stats.outliers_influence import variance_inflation_factor\n",
        "# VIF dataframe\n",
        "vif_data = pd.DataFrame()\n",
        "vif_data[\"feature\"] = x_train.columns\n",
        "  \n",
        "# calculating VIF for each feature\n",
        "vif_data[\"VIF\"] = [variance_inflation_factor(x_train.values, i)\n",
        "                          for i in range(len(x_train.columns))]\n",
        "  \n",
        "print(vif_data)"
      ],
      "metadata": {
        "colab": {
          "base_uri": "https://localhost:8080/"
        },
        "id": "YWd6lhD94UrA",
        "outputId": "9321429b-792f-4663-c321-66335ed89652"
      },
      "id": "YWd6lhD94UrA",
      "execution_count": 221,
      "outputs": [
        {
          "output_type": "stream",
          "name": "stderr",
          "text": [
            "/usr/local/lib/python3.7/dist-packages/statsmodels/stats/outliers_influence.py:185: RuntimeWarning: divide by zero encountered in double_scalars\n",
            "  vif = 1. / (1. - r_squared_i)\n"
          ]
        },
        {
          "output_type": "stream",
          "name": "stdout",
          "text": [
            "                feature        VIF\n",
            "0            total_runs  24.210858\n",
            "1                 run_6   5.056037\n",
            "2                 run_4  10.521120\n",
            "3         total_runs_30        inf\n",
            "4         total_runs_50   2.421469\n",
            "5        total_runs_100   1.160263\n",
            "6         total_runs_30        inf\n",
            "7         total_wickets   3.983298\n",
            "8    total_balls_bowled  11.485270\n",
            "9       total_wickets_3   1.599642\n",
            "10      total_wickets_4   1.292257\n",
            "11      total_wickets_5   1.072357\n",
            "12         maiden_overs   1.086385\n",
            "13         economy_rate  10.210255\n",
            "14      eco less than 5   1.762666\n",
            "15           eco 5-5.99   1.478679\n",
            "16              eco 6-7   1.822131\n",
            "17             eco 7-10   3.529349\n",
            "18            eco 11-12   1.527068\n",
            "19  eco greater than 12   2.544736\n"
          ]
        }
      ]
    }
  ],
  "metadata": {
    "kernelspec": {
      "display_name": "Python 3",
      "language": "python",
      "name": "python3"
    },
    "language_info": {
      "codemirror_mode": {
        "name": "ipython",
        "version": 3
      },
      "file_extension": ".py",
      "mimetype": "text/x-python",
      "name": "python",
      "nbconvert_exporter": "python",
      "pygments_lexer": "ipython3",
      "version": "3.8.8"
    },
    "colab": {
      "name": "IPL EDA2.ipynb",
      "provenance": []
    }
  },
  "nbformat": 4,
  "nbformat_minor": 5
}